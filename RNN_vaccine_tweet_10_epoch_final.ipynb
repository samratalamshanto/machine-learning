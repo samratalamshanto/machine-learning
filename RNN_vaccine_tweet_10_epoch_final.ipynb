{
  "nbformat": 4,
  "nbformat_minor": 0,
  "metadata": {
    "colab": {
      "name": "Stema RNN vaccine tweet 10 epoch final",
      "provenance": [],
      "collapsed_sections": []
    },
    "kernelspec": {
      "display_name": "Python 3",
      "name": "python3"
    }
  },
  "cells": [
    {
      "cell_type": "code",
      "metadata": {
        "id": "RlYZZJPYYon5",
        "colab": {
          "resources": {
            "http://localhost:8080/nbextensions/google.colab/files.js": {
              "data": "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",
              "ok": true,
              "headers": [
                [
                  "content-type",
                  "application/javascript"
                ]
              ],
              "status": 200,
              "status_text": ""
            }
          },
          "base_uri": "https://localhost:8080/",
          "height": 257
        },
        "outputId": "e54cfd1a-fe10-48dc-8651-e5487d301d9d"
      },
      "source": [
        "!pip install kaggle\r\n",
        "from google.colab import files \r\n",
        "#files.open('/content/drive/MyDrive/Colab Notebooks/json kaggle')\r\n",
        "files.upload() #download and upload json file\r\n",
        "\r\n",
        "!mkdir -p ~/.kaggle\r\n",
        "!cp kaggle.json ~/.kaggle/\r\n",
        "\r\n",
        "!chmod 600 ~/.kaggle/kaggle.json\r\n"
      ],
      "execution_count": null,
      "outputs": [
        {
          "output_type": "stream",
          "text": [
            "Requirement already satisfied: kaggle in /usr/local/lib/python3.6/dist-packages (1.5.10)\n",
            "Requirement already satisfied: six>=1.10 in /usr/local/lib/python3.6/dist-packages (from kaggle) (1.15.0)\n",
            "Requirement already satisfied: certifi in /usr/local/lib/python3.6/dist-packages (from kaggle) (2020.12.5)\n",
            "Requirement already satisfied: requests in /usr/local/lib/python3.6/dist-packages (from kaggle) (2.23.0)\n",
            "Requirement already satisfied: urllib3 in /usr/local/lib/python3.6/dist-packages (from kaggle) (1.24.3)\n",
            "Requirement already satisfied: python-dateutil in /usr/local/lib/python3.6/dist-packages (from kaggle) (2.8.1)\n",
            "Requirement already satisfied: tqdm in /usr/local/lib/python3.6/dist-packages (from kaggle) (4.41.1)\n",
            "Requirement already satisfied: python-slugify in /usr/local/lib/python3.6/dist-packages (from kaggle) (4.0.1)\n",
            "Requirement already satisfied: idna<3,>=2.5 in /usr/local/lib/python3.6/dist-packages (from requests->kaggle) (2.10)\n",
            "Requirement already satisfied: chardet<4,>=3.0.2 in /usr/local/lib/python3.6/dist-packages (from requests->kaggle) (3.0.4)\n",
            "Requirement already satisfied: text-unidecode>=1.3 in /usr/local/lib/python3.6/dist-packages (from python-slugify->kaggle) (1.3)\n"
          ],
          "name": "stdout"
        },
        {
          "output_type": "display_data",
          "data": {
            "text/html": [
              "\n",
              "     <input type=\"file\" id=\"files-7fbe4c93-3d82-445c-b6c5-f399f51e8085\" name=\"files[]\" multiple disabled\n",
              "        style=\"border:none\" />\n",
              "     <output id=\"result-7fbe4c93-3d82-445c-b6c5-f399f51e8085\">\n",
              "      Upload widget is only available when the cell has been executed in the\n",
              "      current browser session. Please rerun this cell to enable.\n",
              "      </output>\n",
              "      <script src=\"/nbextensions/google.colab/files.js\"></script> "
            ],
            "text/plain": [
              "<IPython.core.display.HTML object>"
            ]
          },
          "metadata": {
            "tags": []
          }
        },
        {
          "output_type": "stream",
          "text": [
            "Saving kaggle.json to kaggle.json\n"
          ],
          "name": "stdout"
        }
      ]
    },
    {
      "cell_type": "code",
      "metadata": {
        "id": "gULnLxzjaBT5",
        "colab": {
          "base_uri": "https://localhost:8080/"
        },
        "outputId": "44a73848-8c48-4718-d766-93a018f4a170"
      },
      "source": [
        "!kaggle datasets download -d ritesh2000/covid19-vaccine-tweets"
      ],
      "execution_count": null,
      "outputs": [
        {
          "output_type": "stream",
          "text": [
            "Downloading covid19-vaccine-tweets.zip to /content\n",
            " 91% 31.0M/34.1M [00:00<00:00, 40.2MB/s]\n",
            "100% 34.1M/34.1M [00:00<00:00, 76.7MB/s]\n"
          ],
          "name": "stdout"
        }
      ]
    },
    {
      "cell_type": "code",
      "metadata": {
        "id": "EBchWS3XZsXc",
        "colab": {
          "base_uri": "https://localhost:8080/"
        },
        "outputId": "d17ca353-48bb-4963-8c94-ce1b6c0cfb1f"
      },
      "source": [
        "from zipfile import ZipFile\r\n",
        "file_name= \"covid19-vaccine-tweets.zip\"\r\n",
        "\r\n",
        "with ZipFile(file_name ,'r') as zip:\r\n",
        "  zip.extractall()\r\n",
        "  print('Done')"
      ],
      "execution_count": null,
      "outputs": [
        {
          "output_type": "stream",
          "text": [
            "Done\n"
          ],
          "name": "stdout"
        }
      ]
    },
    {
      "cell_type": "code",
      "metadata": {
        "id": "TegBpjDtaR9u"
      },
      "source": [
        "#import library\r\n",
        "\r\n",
        "import pandas as pd\r\n",
        "import numpy as np\r\n",
        "\r\n",
        "import matplotlib.pyplot as plt\r\n",
        "%matplotlib inline\r\n",
        "\r\n",
        "from sklearn.model_selection import train_test_split\r\n",
        "from sklearn.preprocessing import LabelEncoder   ###########\r\n",
        "from sklearn.metrics import confusion_matrix , classification_report , accuracy_score\r\n",
        "from sklearn.manifold import TSNE ######\r\n",
        "from sklearn.feature_extraction.text import TfidfVectorizer #############\r\n",
        "\r\n",
        "from keras.preprocessing.text import Tokenizer         #######\r\n",
        "from keras.preprocessing.sequence import pad_sequences #######\r\n",
        "from keras.models import Sequential\r\n",
        "from keras.layers import Dropout , Conv1D ,MaxPool1D,Activation , Dense , Flatten , Embedding , LSTM ####\r\n",
        "\r\n",
        "from keras import utils\r\n",
        "from keras.callbacks import ReduceLROnPlateau , EarlyStopping\r\n",
        "\r\n",
        "\r\n",
        "#nltk\r\n",
        "\r\n",
        "import nltk\r\n",
        "from nltk.corpus import stopwords ########\r\n",
        "from nltk.stem import SnowballStemmer ############\r\n",
        "\r\n",
        "\r\n",
        "#word to vec\r\n",
        "import gensim\r\n",
        "\r\n",
        "import re #####\r\n",
        "import os\r\n",
        "from collections import Counter #######\r\n",
        "import logging ###\r\n",
        "import time\r\n",
        "import pickle ######\r\n",
        "import itertools ######\r\n",
        "\r\n",
        "\r\n",
        "from textblob import TextBlob # TextBlob - Python library for processing textual data\r\n",
        "import random\r\n",
        "np.random.seed(0)\r\n",
        "\r\n",
        "\r\n"
      ],
      "execution_count": null,
      "outputs": []
    },
    {
      "cell_type": "code",
      "metadata": {
        "id": "zJ1UTKIPTiyi"
      },
      "source": [
        "#load data \r\n",
        "df = pd.read_csv('/content/file.csv')"
      ],
      "execution_count": null,
      "outputs": []
    },
    {
      "cell_type": "code",
      "metadata": {
        "id": "PxtFwmZA8rCZ"
      },
      "source": [
        "df1= df.copy()"
      ],
      "execution_count": null,
      "outputs": []
    },
    {
      "cell_type": "code",
      "metadata": {
        "id": "sx4q3GhDfWkB"
      },
      "source": [
        "# select only english tweet \r\n",
        "df2 = df1[df1['language']=='en']"
      ],
      "execution_count": null,
      "outputs": []
    },
    {
      "cell_type": "code",
      "metadata": {
        "id": "QiobRyovv8bY",
        "colab": {
          "base_uri": "https://localhost:8080/",
          "height": 196
        },
        "outputId": "47b4f36a-56e3-4552-f8dd-e3c90f827b89"
      },
      "source": [
        "df2 = df2[['date' , 'tweet']]\r\n",
        "df2.head()"
      ],
      "execution_count": null,
      "outputs": [
        {
          "output_type": "execute_result",
          "data": {
            "text/html": [
              "<div>\n",
              "<style scoped>\n",
              "    .dataframe tbody tr th:only-of-type {\n",
              "        vertical-align: middle;\n",
              "    }\n",
              "\n",
              "    .dataframe tbody tr th {\n",
              "        vertical-align: top;\n",
              "    }\n",
              "\n",
              "    .dataframe thead th {\n",
              "        text-align: right;\n",
              "    }\n",
              "</style>\n",
              "<table border=\"1\" class=\"dataframe\">\n",
              "  <thead>\n",
              "    <tr style=\"text-align: right;\">\n",
              "      <th></th>\n",
              "      <th>date</th>\n",
              "      <th>tweet</th>\n",
              "    </tr>\n",
              "  </thead>\n",
              "  <tbody>\n",
              "    <tr>\n",
              "      <th>0</th>\n",
              "      <td>2020-10-22</td>\n",
              "      <td>@ANI Isn't it the best poll promise ever?? Fre...</td>\n",
              "    </tr>\n",
              "    <tr>\n",
              "      <th>1</th>\n",
              "      <td>2020-10-22</td>\n",
              "      <td>Now states shall have wait for thier Vidhan Sa...</td>\n",
              "    </tr>\n",
              "    <tr>\n",
              "      <th>3</th>\n",
              "      <td>2020-10-22</td>\n",
              "      <td>@MisseeMonis They said vaccine for all but not...</td>\n",
              "    </tr>\n",
              "    <tr>\n",
              "      <th>4</th>\n",
              "      <td>2020-10-22</td>\n",
              "      <td>BJP really presenting \"free COVID vaccine\" as ...</td>\n",
              "    </tr>\n",
              "    <tr>\n",
              "      <th>5</th>\n",
              "      <td>2020-10-22</td>\n",
              "      <td>Another dose of daily miserablism from Planet ...</td>\n",
              "    </tr>\n",
              "  </tbody>\n",
              "</table>\n",
              "</div>"
            ],
            "text/plain": [
              "         date                                              tweet\n",
              "0  2020-10-22  @ANI Isn't it the best poll promise ever?? Fre...\n",
              "1  2020-10-22  Now states shall have wait for thier Vidhan Sa...\n",
              "3  2020-10-22  @MisseeMonis They said vaccine for all but not...\n",
              "4  2020-10-22  BJP really presenting \"free COVID vaccine\" as ...\n",
              "5  2020-10-22  Another dose of daily miserablism from Planet ..."
            ]
          },
          "metadata": {
            "tags": []
          },
          "execution_count": 10
        }
      ]
    },
    {
      "cell_type": "code",
      "metadata": {
        "id": "oCFZTh5rwPFJ",
        "colab": {
          "base_uri": "https://localhost:8080/"
        },
        "outputId": "5a8f1f99-c198-4880-c2e3-3175913bb479"
      },
      "source": [
        "df2['tweet'].isna().sum()"
      ],
      "execution_count": null,
      "outputs": [
        {
          "output_type": "execute_result",
          "data": {
            "text/plain": [
              "0"
            ]
          },
          "metadata": {
            "tags": []
          },
          "execution_count": 11
        }
      ]
    },
    {
      "cell_type": "code",
      "metadata": {
        "id": "d2JJ3VLWxYrW",
        "colab": {
          "base_uri": "https://localhost:8080/"
        },
        "outputId": "bc92486a-b054-4536-f53e-bc04d23951d4"
      },
      "source": [
        "df2['date'].isna().sum()"
      ],
      "execution_count": null,
      "outputs": [
        {
          "output_type": "execute_result",
          "data": {
            "text/plain": [
              "0"
            ]
          },
          "metadata": {
            "tags": []
          },
          "execution_count": 12
        }
      ]
    },
    {
      "cell_type": "code",
      "metadata": {
        "id": "hZ20uM1YxfRG",
        "colab": {
          "base_uri": "https://localhost:8080/"
        },
        "outputId": "573f2abc-1891-4e68-bf4e-0be4a38cbc9c"
      },
      "source": [
        "df2.shape"
      ],
      "execution_count": null,
      "outputs": [
        {
          "output_type": "execute_result",
          "data": {
            "text/plain": [
              "(201030, 2)"
            ]
          },
          "metadata": {
            "tags": []
          },
          "execution_count": 13
        }
      ]
    },
    {
      "cell_type": "code",
      "metadata": {
        "id": "AwuNsrd6xh98",
        "colab": {
          "base_uri": "https://localhost:8080/",
          "height": 196
        },
        "outputId": "46733c4a-d092-4dae-cc1c-f29d7196812a"
      },
      "source": [
        "#to change df2 to data.this is the main data \r\n",
        "\r\n",
        "data = df2.copy()  \r\n",
        "\r\n",
        "data.head()"
      ],
      "execution_count": null,
      "outputs": [
        {
          "output_type": "execute_result",
          "data": {
            "text/html": [
              "<div>\n",
              "<style scoped>\n",
              "    .dataframe tbody tr th:only-of-type {\n",
              "        vertical-align: middle;\n",
              "    }\n",
              "\n",
              "    .dataframe tbody tr th {\n",
              "        vertical-align: top;\n",
              "    }\n",
              "\n",
              "    .dataframe thead th {\n",
              "        text-align: right;\n",
              "    }\n",
              "</style>\n",
              "<table border=\"1\" class=\"dataframe\">\n",
              "  <thead>\n",
              "    <tr style=\"text-align: right;\">\n",
              "      <th></th>\n",
              "      <th>date</th>\n",
              "      <th>tweet</th>\n",
              "    </tr>\n",
              "  </thead>\n",
              "  <tbody>\n",
              "    <tr>\n",
              "      <th>0</th>\n",
              "      <td>2020-10-22</td>\n",
              "      <td>@ANI Isn't it the best poll promise ever?? Fre...</td>\n",
              "    </tr>\n",
              "    <tr>\n",
              "      <th>1</th>\n",
              "      <td>2020-10-22</td>\n",
              "      <td>Now states shall have wait for thier Vidhan Sa...</td>\n",
              "    </tr>\n",
              "    <tr>\n",
              "      <th>3</th>\n",
              "      <td>2020-10-22</td>\n",
              "      <td>@MisseeMonis They said vaccine for all but not...</td>\n",
              "    </tr>\n",
              "    <tr>\n",
              "      <th>4</th>\n",
              "      <td>2020-10-22</td>\n",
              "      <td>BJP really presenting \"free COVID vaccine\" as ...</td>\n",
              "    </tr>\n",
              "    <tr>\n",
              "      <th>5</th>\n",
              "      <td>2020-10-22</td>\n",
              "      <td>Another dose of daily miserablism from Planet ...</td>\n",
              "    </tr>\n",
              "  </tbody>\n",
              "</table>\n",
              "</div>"
            ],
            "text/plain": [
              "         date                                              tweet\n",
              "0  2020-10-22  @ANI Isn't it the best poll promise ever?? Fre...\n",
              "1  2020-10-22  Now states shall have wait for thier Vidhan Sa...\n",
              "3  2020-10-22  @MisseeMonis They said vaccine for all but not...\n",
              "4  2020-10-22  BJP really presenting \"free COVID vaccine\" as ...\n",
              "5  2020-10-22  Another dose of daily miserablism from Planet ..."
            ]
          },
          "metadata": {
            "tags": []
          },
          "execution_count": 14
        }
      ]
    },
    {
      "cell_type": "code",
      "metadata": {
        "id": "kRX1ZEKEz4tG",
        "colab": {
          "base_uri": "https://localhost:8080/",
          "height": 196
        },
        "outputId": "7a4bd78a-8b32-47dc-89c2-46ec0f1918c4"
      },
      "source": [
        "data['process_tweet'] = data['tweet'].copy()\r\n",
        "data.head()"
      ],
      "execution_count": null,
      "outputs": [
        {
          "output_type": "execute_result",
          "data": {
            "text/html": [
              "<div>\n",
              "<style scoped>\n",
              "    .dataframe tbody tr th:only-of-type {\n",
              "        vertical-align: middle;\n",
              "    }\n",
              "\n",
              "    .dataframe tbody tr th {\n",
              "        vertical-align: top;\n",
              "    }\n",
              "\n",
              "    .dataframe thead th {\n",
              "        text-align: right;\n",
              "    }\n",
              "</style>\n",
              "<table border=\"1\" class=\"dataframe\">\n",
              "  <thead>\n",
              "    <tr style=\"text-align: right;\">\n",
              "      <th></th>\n",
              "      <th>date</th>\n",
              "      <th>tweet</th>\n",
              "      <th>process_tweet</th>\n",
              "    </tr>\n",
              "  </thead>\n",
              "  <tbody>\n",
              "    <tr>\n",
              "      <th>0</th>\n",
              "      <td>2020-10-22</td>\n",
              "      <td>@ANI Isn't it the best poll promise ever?? Fre...</td>\n",
              "      <td>@ANI Isn't it the best poll promise ever?? Fre...</td>\n",
              "    </tr>\n",
              "    <tr>\n",
              "      <th>1</th>\n",
              "      <td>2020-10-22</td>\n",
              "      <td>Now states shall have wait for thier Vidhan Sa...</td>\n",
              "      <td>Now states shall have wait for thier Vidhan Sa...</td>\n",
              "    </tr>\n",
              "    <tr>\n",
              "      <th>3</th>\n",
              "      <td>2020-10-22</td>\n",
              "      <td>@MisseeMonis They said vaccine for all but not...</td>\n",
              "      <td>@MisseeMonis They said vaccine for all but not...</td>\n",
              "    </tr>\n",
              "    <tr>\n",
              "      <th>4</th>\n",
              "      <td>2020-10-22</td>\n",
              "      <td>BJP really presenting \"free COVID vaccine\" as ...</td>\n",
              "      <td>BJP really presenting \"free COVID vaccine\" as ...</td>\n",
              "    </tr>\n",
              "    <tr>\n",
              "      <th>5</th>\n",
              "      <td>2020-10-22</td>\n",
              "      <td>Another dose of daily miserablism from Planet ...</td>\n",
              "      <td>Another dose of daily miserablism from Planet ...</td>\n",
              "    </tr>\n",
              "  </tbody>\n",
              "</table>\n",
              "</div>"
            ],
            "text/plain": [
              "         date  ...                                      process_tweet\n",
              "0  2020-10-22  ...  @ANI Isn't it the best poll promise ever?? Fre...\n",
              "1  2020-10-22  ...  Now states shall have wait for thier Vidhan Sa...\n",
              "3  2020-10-22  ...  @MisseeMonis They said vaccine for all but not...\n",
              "4  2020-10-22  ...  BJP really presenting \"free COVID vaccine\" as ...\n",
              "5  2020-10-22  ...  Another dose of daily miserablism from Planet ...\n",
              "\n",
              "[5 rows x 3 columns]"
            ]
          },
          "metadata": {
            "tags": []
          },
          "execution_count": 15
        }
      ]
    },
    {
      "cell_type": "markdown",
      "metadata": {
        "id": "YLBGRCim2yB_"
      },
      "source": [
        "# Preprocessing the Tweet\r\n"
      ]
    },
    {
      "cell_type": "code",
      "metadata": {
        "id": "2DHCeZn822Vz"
      },
      "source": [
        "def clean_data(txt):\r\n",
        "  txt = txt.lower()  # lowercase\r\n",
        "  txt = re.sub(r'@[A-Za-z0-9_]+' , '' , txt)   #remove mentions\r\n",
        "  txt = re.sub(r'#' , '' , txt) #remove hashtags\r\n",
        "  txt = re.sub(r'RT : ','' , txt) # remove retweets\r\n",
        "  txt = re.sub(r'https?:\\/\\/[A-Za-z0-9\\./\\/]+' , '' , txt) #removes url\r\n",
        "  txt = re.sub('\\[.*?\\]' , '' , txt) #remove square brackets\r\n",
        "  txt = re.sub(r'[^\\w\\s]' , '' , txt) #remove puntuations\r\n",
        "  txt = re.sub('\\w*\\d\\w*' , '' ,txt) #removes words containig numbers\r\n",
        "  txt = re.sub('\\n' , '' ,txt) #remove new lines\r\n",
        " \r\n",
        "\r\n",
        "  return txt\r\n"
      ],
      "execution_count": null,
      "outputs": []
    },
    {
      "cell_type": "code",
      "metadata": {
        "id": "iqYMECJk5Xzq",
        "colab": {
          "base_uri": "https://localhost:8080/"
        },
        "outputId": "df8d4246-ccaa-4a0d-ce46-acf3b449ef38"
      },
      "source": [
        "data['process_tweet'] = data['process_tweet'].apply(clean_data)\r\n",
        "data['process_tweet']"
      ],
      "execution_count": null,
      "outputs": [
        {
          "output_type": "execute_result",
          "data": {
            "text/plain": [
              "0          isnt it the best poll promise ever free covid...\n",
              "1         now states shall have wait for thier vidhan sa...\n",
              "3          they said vaccine for all but not when free c...\n",
              "4         bjp really presenting free covid vaccine as a ...\n",
              "5         another dose of daily miserablism from planet ...\n",
              "                                ...                        \n",
              "209924     plenty of companies chasing heat making crazy...\n",
              "209925     easy researchers develop a covid vaccine and ...\n",
              "209926       the sars vaccine caused more harm than good...\n",
              "209927    i guess the  months before the covid vaccine i...\n",
              "209928     yaya now my insurance can get charged for a c...\n",
              "Name: process_tweet, Length: 201030, dtype: object"
            ]
          },
          "metadata": {
            "tags": []
          },
          "execution_count": 17
        }
      ]
    },
    {
      "cell_type": "code",
      "metadata": {
        "id": "dqjUX3klSffn",
        "colab": {
          "base_uri": "https://localhost:8080/"
        },
        "outputId": "156d55b0-1f47-42db-9242-7f226a0f24ed"
      },
      "source": [
        "nltk.download('stopwords')"
      ],
      "execution_count": null,
      "outputs": [
        {
          "output_type": "stream",
          "text": [
            "[nltk_data] Downloading package stopwords to /root/nltk_data...\n",
            "[nltk_data]   Unzipping corpora/stopwords.zip.\n"
          ],
          "name": "stdout"
        },
        {
          "output_type": "execute_result",
          "data": {
            "text/plain": [
              "True"
            ]
          },
          "metadata": {
            "tags": []
          },
          "execution_count": 18
        }
      ]
    },
    {
      "cell_type": "code",
      "metadata": {
        "id": "Qinr46wwu-2X"
      },
      "source": [
        "#removig stop words\r\n",
        "\r\n",
        "stopwords = nltk.corpus.stopwords.words('english')\r\n",
        "\r\n",
        "def remove_stopwords(txt):\r\n",
        "  rmv_stpwords = [i for i in txt.split() if i not in stopwords]\r\n",
        "  rmv_stpwords_join = ' '.join(rmv_stpwords)\r\n",
        "  return rmv_stpwords_join\r\n",
        "\r\n",
        " "
      ],
      "execution_count": null,
      "outputs": []
    },
    {
      "cell_type": "code",
      "metadata": {
        "id": "xOFp4H8Zu-9c",
        "colab": {
          "base_uri": "https://localhost:8080/",
          "height": 196
        },
        "outputId": "919f7092-b64c-4202-e28a-2613d900b938"
      },
      "source": [
        "data['process_tweet'] = data['process_tweet'].apply(remove_stopwords)\r\n",
        "\r\n",
        "data.head()#after removing stopwords"
      ],
      "execution_count": null,
      "outputs": [
        {
          "output_type": "execute_result",
          "data": {
            "text/html": [
              "<div>\n",
              "<style scoped>\n",
              "    .dataframe tbody tr th:only-of-type {\n",
              "        vertical-align: middle;\n",
              "    }\n",
              "\n",
              "    .dataframe tbody tr th {\n",
              "        vertical-align: top;\n",
              "    }\n",
              "\n",
              "    .dataframe thead th {\n",
              "        text-align: right;\n",
              "    }\n",
              "</style>\n",
              "<table border=\"1\" class=\"dataframe\">\n",
              "  <thead>\n",
              "    <tr style=\"text-align: right;\">\n",
              "      <th></th>\n",
              "      <th>date</th>\n",
              "      <th>tweet</th>\n",
              "      <th>process_tweet</th>\n",
              "    </tr>\n",
              "  </thead>\n",
              "  <tbody>\n",
              "    <tr>\n",
              "      <th>0</th>\n",
              "      <td>2020-10-22</td>\n",
              "      <td>@ANI Isn't it the best poll promise ever?? Fre...</td>\n",
              "      <td>isnt best poll promise ever free covid vaccine...</td>\n",
              "    </tr>\n",
              "    <tr>\n",
              "      <th>1</th>\n",
              "      <td>2020-10-22</td>\n",
              "      <td>Now states shall have wait for thier Vidhan Sa...</td>\n",
              "      <td>states shall wait thier vidhan sabha election ...</td>\n",
              "    </tr>\n",
              "    <tr>\n",
              "      <th>3</th>\n",
              "      <td>2020-10-22</td>\n",
              "      <td>@MisseeMonis They said vaccine for all but not...</td>\n",
              "      <td>said vaccine free covid vaccine new lakhs rs e...</td>\n",
              "    </tr>\n",
              "    <tr>\n",
              "      <th>4</th>\n",
              "      <td>2020-10-22</td>\n",
              "      <td>BJP really presenting \"free COVID vaccine\" as ...</td>\n",
              "      <td>bjp really presenting free covid vaccine state...</td>\n",
              "    </tr>\n",
              "    <tr>\n",
              "      <th>5</th>\n",
              "      <td>2020-10-22</td>\n",
              "      <td>Another dose of daily miserablism from Planet ...</td>\n",
              "      <td>another dose daily miserablism planet grauniad...</td>\n",
              "    </tr>\n",
              "  </tbody>\n",
              "</table>\n",
              "</div>"
            ],
            "text/plain": [
              "         date  ...                                      process_tweet\n",
              "0  2020-10-22  ...  isnt best poll promise ever free covid vaccine...\n",
              "1  2020-10-22  ...  states shall wait thier vidhan sabha election ...\n",
              "3  2020-10-22  ...  said vaccine free covid vaccine new lakhs rs e...\n",
              "4  2020-10-22  ...  bjp really presenting free covid vaccine state...\n",
              "5  2020-10-22  ...  another dose daily miserablism planet grauniad...\n",
              "\n",
              "[5 rows x 3 columns]"
            ]
          },
          "metadata": {
            "tags": []
          },
          "execution_count": 20
        }
      ]
    },
    {
      "cell_type": "code",
      "metadata": {
        "id": "VSeFd50AwBv2"
      },
      "source": [
        "from nltk.stem import PorterStemmer\r\n",
        "st = PorterStemmer()"
      ],
      "execution_count": null,
      "outputs": []
    },
    {
      "cell_type": "code",
      "metadata": {
        "id": "zyj3h_NewLJL"
      },
      "source": [
        "def stemming(txt):\r\n",
        "  txt =[st.stem(word) for word in txt.split()]\r\n",
        "  txt_join = ' '.join(txt)\r\n",
        "  return txt_join\r\n",
        "\r\n",
        "#Stemming refers to the removal of suffices, like “ing”, “ly”, “s”, etc. by a simple rule-based approach."
      ],
      "execution_count": null,
      "outputs": []
    },
    {
      "cell_type": "code",
      "metadata": {
        "id": "D9VyYrW_0zGu",
        "colab": {
          "base_uri": "https://localhost:8080/",
          "height": 196
        },
        "outputId": "8ec8b7f0-e2f0-4f5f-9626-d59a9f15cb47"
      },
      "source": [
        "data['process_tweet'] = data['process_tweet'].apply(stemming)\r\n",
        "data.head()"
      ],
      "execution_count": null,
      "outputs": [
        {
          "output_type": "execute_result",
          "data": {
            "text/html": [
              "<div>\n",
              "<style scoped>\n",
              "    .dataframe tbody tr th:only-of-type {\n",
              "        vertical-align: middle;\n",
              "    }\n",
              "\n",
              "    .dataframe tbody tr th {\n",
              "        vertical-align: top;\n",
              "    }\n",
              "\n",
              "    .dataframe thead th {\n",
              "        text-align: right;\n",
              "    }\n",
              "</style>\n",
              "<table border=\"1\" class=\"dataframe\">\n",
              "  <thead>\n",
              "    <tr style=\"text-align: right;\">\n",
              "      <th></th>\n",
              "      <th>date</th>\n",
              "      <th>tweet</th>\n",
              "      <th>process_tweet</th>\n",
              "    </tr>\n",
              "  </thead>\n",
              "  <tbody>\n",
              "    <tr>\n",
              "      <th>0</th>\n",
              "      <td>2020-10-22</td>\n",
              "      <td>@ANI Isn't it the best poll promise ever?? Fre...</td>\n",
              "      <td>isnt best poll promis ever free covid vaccin v...</td>\n",
              "    </tr>\n",
              "    <tr>\n",
              "      <th>1</th>\n",
              "      <td>2020-10-22</td>\n",
              "      <td>Now states shall have wait for thier Vidhan Sa...</td>\n",
              "      <td>state shall wait thier vidhan sabha elect get ...</td>\n",
              "    </tr>\n",
              "    <tr>\n",
              "      <th>3</th>\n",
              "      <td>2020-10-22</td>\n",
              "      <td>@MisseeMonis They said vaccine for all but not...</td>\n",
              "      <td>said vaccin free covid vaccin new lakh rs ever...</td>\n",
              "    </tr>\n",
              "    <tr>\n",
              "      <th>4</th>\n",
              "      <td>2020-10-22</td>\n",
              "      <td>BJP really presenting \"free COVID vaccine\" as ...</td>\n",
              "      <td>bjp realli present free covid vaccin state man...</td>\n",
              "    </tr>\n",
              "    <tr>\n",
              "      <th>5</th>\n",
              "      <td>2020-10-22</td>\n",
              "      <td>Another dose of daily miserablism from Planet ...</td>\n",
              "      <td>anoth dose daili miserabl planet grauniad sub ...</td>\n",
              "    </tr>\n",
              "  </tbody>\n",
              "</table>\n",
              "</div>"
            ],
            "text/plain": [
              "         date  ...                                      process_tweet\n",
              "0  2020-10-22  ...  isnt best poll promis ever free covid vaccin v...\n",
              "1  2020-10-22  ...  state shall wait thier vidhan sabha elect get ...\n",
              "3  2020-10-22  ...  said vaccin free covid vaccin new lakh rs ever...\n",
              "4  2020-10-22  ...  bjp realli present free covid vaccin state man...\n",
              "5  2020-10-22  ...  anoth dose daili miserabl planet grauniad sub ...\n",
              "\n",
              "[5 rows x 3 columns]"
            ]
          },
          "metadata": {
            "tags": []
          },
          "execution_count": 23
        }
      ]
    },
    {
      "cell_type": "code",
      "metadata": {
        "id": "Q_-Tb9Bv9VbL"
      },
      "source": [
        "# i dont code the removal of the most used word ,............................. @joy\r\n",
        "\r\n",
        "#frequent word"
      ],
      "execution_count": null,
      "outputs": []
    },
    {
      "cell_type": "markdown",
      "metadata": {
        "id": "oQqDtD276ZNk"
      },
      "source": [
        "# Labeling\r\n",
        "\r\n",
        "5 labels: \r\n",
        "strongly positive,\r\n",
        "positive,\r\n",
        "nuteral,\r\n",
        "negative,\r\n",
        "strongly negetative.\r\n"
      ]
    },
    {
      "cell_type": "code",
      "metadata": {
        "id": "AGMa2rlh52cW"
      },
      "source": [
        "def get_text_subjectivity(txt):\r\n",
        "  return TextBlob(txt).sentiment.subjectivity\r\n",
        "\r\n",
        "def get_text_polarity(txt):\r\n",
        "  return TextBlob(txt).sentiment.polarity"
      ],
      "execution_count": null,
      "outputs": []
    },
    {
      "cell_type": "code",
      "metadata": {
        "id": "ny013lIFy0UW"
      },
      "source": [
        ""
      ],
      "execution_count": null,
      "outputs": []
    },
    {
      "cell_type": "code",
      "metadata": {
        "id": "wGxnAfLo7p_6"
      },
      "source": [
        "#add 2 columns(subjectivity and polarity) to the data\r\n",
        "\r\n",
        "data['Subjectivity'] = data['process_tweet'].apply(get_text_subjectivity)\r\n",
        "\r\n",
        "data['Polarity'] = data['process_tweet'].apply(get_text_polarity)"
      ],
      "execution_count": null,
      "outputs": []
    },
    {
      "cell_type": "code",
      "metadata": {
        "colab": {
          "base_uri": "https://localhost:8080/",
          "height": 196
        },
        "id": "vfxxhMCd8GvD",
        "outputId": "af6026e3-c5fd-4417-b4bd-8b0b27f9b861"
      },
      "source": [
        "data.head() #after adding subjectivity and polarity"
      ],
      "execution_count": null,
      "outputs": [
        {
          "output_type": "execute_result",
          "data": {
            "text/html": [
              "<div>\n",
              "<style scoped>\n",
              "    .dataframe tbody tr th:only-of-type {\n",
              "        vertical-align: middle;\n",
              "    }\n",
              "\n",
              "    .dataframe tbody tr th {\n",
              "        vertical-align: top;\n",
              "    }\n",
              "\n",
              "    .dataframe thead th {\n",
              "        text-align: right;\n",
              "    }\n",
              "</style>\n",
              "<table border=\"1\" class=\"dataframe\">\n",
              "  <thead>\n",
              "    <tr style=\"text-align: right;\">\n",
              "      <th></th>\n",
              "      <th>date</th>\n",
              "      <th>tweet</th>\n",
              "      <th>process_tweet</th>\n",
              "      <th>Subjectivity</th>\n",
              "      <th>Polarity</th>\n",
              "    </tr>\n",
              "  </thead>\n",
              "  <tbody>\n",
              "    <tr>\n",
              "      <th>0</th>\n",
              "      <td>2020-10-22</td>\n",
              "      <td>@ANI Isn't it the best poll promise ever?? Fre...</td>\n",
              "      <td>isnt best poll promis ever free covid vaccin v...</td>\n",
              "      <td>0.517500</td>\n",
              "      <td>0.197500</td>\n",
              "    </tr>\n",
              "    <tr>\n",
              "      <th>1</th>\n",
              "      <td>2020-10-22</td>\n",
              "      <td>Now states shall have wait for thier Vidhan Sa...</td>\n",
              "      <td>state shall wait thier vidhan sabha elect get ...</td>\n",
              "      <td>0.900000</td>\n",
              "      <td>0.800000</td>\n",
              "    </tr>\n",
              "    <tr>\n",
              "      <th>3</th>\n",
              "      <td>2020-10-22</td>\n",
              "      <td>@MisseeMonis They said vaccine for all but not...</td>\n",
              "      <td>said vaccin free covid vaccin new lakh rs ever...</td>\n",
              "      <td>0.718182</td>\n",
              "      <td>0.378788</td>\n",
              "    </tr>\n",
              "    <tr>\n",
              "      <th>4</th>\n",
              "      <td>2020-10-22</td>\n",
              "      <td>BJP really presenting \"free COVID vaccine\" as ...</td>\n",
              "      <td>bjp realli present free covid vaccin state man...</td>\n",
              "      <td>0.525000</td>\n",
              "      <td>0.500000</td>\n",
              "    </tr>\n",
              "    <tr>\n",
              "      <th>5</th>\n",
              "      <td>2020-10-22</td>\n",
              "      <td>Another dose of daily miserablism from Planet ...</td>\n",
              "      <td>anoth dose daili miserabl planet grauniad sub ...</td>\n",
              "      <td>0.000000</td>\n",
              "      <td>0.000000</td>\n",
              "    </tr>\n",
              "  </tbody>\n",
              "</table>\n",
              "</div>"
            ],
            "text/plain": [
              "         date  ...  Polarity\n",
              "0  2020-10-22  ...  0.197500\n",
              "1  2020-10-22  ...  0.800000\n",
              "3  2020-10-22  ...  0.378788\n",
              "4  2020-10-22  ...  0.500000\n",
              "5  2020-10-22  ...  0.000000\n",
              "\n",
              "[5 rows x 5 columns]"
            ]
          },
          "metadata": {
            "tags": []
          },
          "execution_count": 27
        }
      ]
    },
    {
      "cell_type": "code",
      "metadata": {
        "id": "LGvzrHiC8edE"
      },
      "source": [
        "#Labeling\r\n",
        "def get_text_analysis(i):\r\n",
        "  if (i<-0.5):\r\n",
        "    return 'Strongly Negative'\r\n",
        "  elif ((i<0 ) and (i >= -0.5)):\r\n",
        "    return 'Negative'\r\n",
        "  elif (i == 0):\r\n",
        "    return 'Neutral'\r\n",
        "  elif (i>0 and i<=0.5):\r\n",
        "    return 'Positive'\r\n",
        "  else:\r\n",
        "    return 'Strongly Positive'\r\n",
        "\r\n"
      ],
      "execution_count": null,
      "outputs": []
    },
    {
      "cell_type": "code",
      "metadata": {
        "id": "eUeB5HlG-Ejk"
      },
      "source": [
        "data['Sentiment'] = data['Polarity'].apply(get_text_analysis)"
      ],
      "execution_count": null,
      "outputs": []
    },
    {
      "cell_type": "code",
      "metadata": {
        "colab": {
          "base_uri": "https://localhost:8080/",
          "height": 196
        },
        "id": "kPXKsJQ4AGcM",
        "outputId": "3ae6831e-10cd-40e6-b1ca-fed8cc24f924"
      },
      "source": [
        "data.head()"
      ],
      "execution_count": null,
      "outputs": [
        {
          "output_type": "execute_result",
          "data": {
            "text/html": [
              "<div>\n",
              "<style scoped>\n",
              "    .dataframe tbody tr th:only-of-type {\n",
              "        vertical-align: middle;\n",
              "    }\n",
              "\n",
              "    .dataframe tbody tr th {\n",
              "        vertical-align: top;\n",
              "    }\n",
              "\n",
              "    .dataframe thead th {\n",
              "        text-align: right;\n",
              "    }\n",
              "</style>\n",
              "<table border=\"1\" class=\"dataframe\">\n",
              "  <thead>\n",
              "    <tr style=\"text-align: right;\">\n",
              "      <th></th>\n",
              "      <th>date</th>\n",
              "      <th>tweet</th>\n",
              "      <th>process_tweet</th>\n",
              "      <th>Subjectivity</th>\n",
              "      <th>Polarity</th>\n",
              "      <th>Sentiment</th>\n",
              "    </tr>\n",
              "  </thead>\n",
              "  <tbody>\n",
              "    <tr>\n",
              "      <th>0</th>\n",
              "      <td>2020-10-22</td>\n",
              "      <td>@ANI Isn't it the best poll promise ever?? Fre...</td>\n",
              "      <td>isnt best poll promis ever free covid vaccin v...</td>\n",
              "      <td>0.517500</td>\n",
              "      <td>0.197500</td>\n",
              "      <td>Positive</td>\n",
              "    </tr>\n",
              "    <tr>\n",
              "      <th>1</th>\n",
              "      <td>2020-10-22</td>\n",
              "      <td>Now states shall have wait for thier Vidhan Sa...</td>\n",
              "      <td>state shall wait thier vidhan sabha elect get ...</td>\n",
              "      <td>0.900000</td>\n",
              "      <td>0.800000</td>\n",
              "      <td>Strongly Positive</td>\n",
              "    </tr>\n",
              "    <tr>\n",
              "      <th>3</th>\n",
              "      <td>2020-10-22</td>\n",
              "      <td>@MisseeMonis They said vaccine for all but not...</td>\n",
              "      <td>said vaccin free covid vaccin new lakh rs ever...</td>\n",
              "      <td>0.718182</td>\n",
              "      <td>0.378788</td>\n",
              "      <td>Positive</td>\n",
              "    </tr>\n",
              "    <tr>\n",
              "      <th>4</th>\n",
              "      <td>2020-10-22</td>\n",
              "      <td>BJP really presenting \"free COVID vaccine\" as ...</td>\n",
              "      <td>bjp realli present free covid vaccin state man...</td>\n",
              "      <td>0.525000</td>\n",
              "      <td>0.500000</td>\n",
              "      <td>Positive</td>\n",
              "    </tr>\n",
              "    <tr>\n",
              "      <th>5</th>\n",
              "      <td>2020-10-22</td>\n",
              "      <td>Another dose of daily miserablism from Planet ...</td>\n",
              "      <td>anoth dose daili miserabl planet grauniad sub ...</td>\n",
              "      <td>0.000000</td>\n",
              "      <td>0.000000</td>\n",
              "      <td>Neutral</td>\n",
              "    </tr>\n",
              "  </tbody>\n",
              "</table>\n",
              "</div>"
            ],
            "text/plain": [
              "         date  ...          Sentiment\n",
              "0  2020-10-22  ...           Positive\n",
              "1  2020-10-22  ...  Strongly Positive\n",
              "3  2020-10-22  ...           Positive\n",
              "4  2020-10-22  ...           Positive\n",
              "5  2020-10-22  ...            Neutral\n",
              "\n",
              "[5 rows x 6 columns]"
            ]
          },
          "metadata": {
            "tags": []
          },
          "execution_count": 30
        }
      ]
    },
    {
      "cell_type": "code",
      "metadata": {
        "colab": {
          "base_uri": "https://localhost:8080/"
        },
        "id": "OAXSh6h_AIkv",
        "outputId": "9cec790a-d11e-4488-f5c0-e344ebf0db87"
      },
      "source": [
        "df_strongly_pos = data[data['Sentiment']=='Strongly Positive']\r\n",
        "print(df_strongly_pos.shape[0])\r\n",
        "\r\n",
        "print(str(df_strongly_pos.shape[0]/(data.shape[0])*100 )+ ' %')\r\n"
      ],
      "execution_count": null,
      "outputs": [
        {
          "output_type": "stream",
          "text": [
            "8742\n",
            "4.348604685867781 %\n"
          ],
          "name": "stdout"
        }
      ]
    },
    {
      "cell_type": "code",
      "metadata": {
        "colab": {
          "base_uri": "https://localhost:8080/"
        },
        "id": "uOhcAQlMB09X",
        "outputId": "887d7644-6267-4fbe-ff08-541fd5e5692c"
      },
      "source": [
        "df_pos = data[data['Sentiment']=='Positive']\r\n",
        "print(df_pos.shape[0])\r\n",
        "print(str(df_pos.shape[0]/(data.shape[0])*100 )+ ' %')"
      ],
      "execution_count": null,
      "outputs": [
        {
          "output_type": "stream",
          "text": [
            "58215\n",
            "28.958364423220416 %\n"
          ],
          "name": "stdout"
        }
      ]
    },
    {
      "cell_type": "code",
      "metadata": {
        "colab": {
          "base_uri": "https://localhost:8080/"
        },
        "id": "f2QRvUjkB_B_",
        "outputId": "e3dd1ee2-3670-49e5-9402-2631aec4b516"
      },
      "source": [
        "df_neu = data[data['Sentiment']=='Neutral']\r\n",
        "print(df_neu.shape[0])\r\n",
        "print(str(df_neu.shape[0]/(data.shape[0])*100 )+ ' %')\r\n"
      ],
      "execution_count": null,
      "outputs": [
        {
          "output_type": "stream",
          "text": [
            "100751\n",
            "50.11739541361986 %\n"
          ],
          "name": "stdout"
        }
      ]
    },
    {
      "cell_type": "code",
      "metadata": {
        "colab": {
          "base_uri": "https://localhost:8080/"
        },
        "id": "9t1EaRHHBVu-",
        "outputId": "1a02e5c8-514a-4ca5-c837-67af04464fd7"
      },
      "source": [
        "df_neg = data[data['Sentiment']=='Negative']\r\n",
        "print(df_neg.shape[0])\r\n",
        "\r\n",
        "print(str(df_neg.shape[0]/(data.shape[0])*100 )+ ' %')"
      ],
      "execution_count": null,
      "outputs": [
        {
          "output_type": "stream",
          "text": [
            "30580\n",
            "15.211659951251058 %\n"
          ],
          "name": "stdout"
        }
      ]
    },
    {
      "cell_type": "code",
      "metadata": {
        "colab": {
          "base_uri": "https://localhost:8080/"
        },
        "id": "EqpZtq1hBOYl",
        "outputId": "379d36df-a169-4013-987d-4bd12dcc65ab"
      },
      "source": [
        "df_strongly_neg = data[data['Sentiment']=='Strongly Negative']\r\n",
        "print(df_strongly_neg.shape[0])\r\n",
        "\r\n",
        "print(str(df_strongly_neg.shape[0]/(data.shape[0])*100 )+ ' %')"
      ],
      "execution_count": null,
      "outputs": [
        {
          "output_type": "stream",
          "text": [
            "2742\n",
            "1.3639755260408895 %\n"
          ],
          "name": "stdout"
        }
      ]
    },
    {
      "cell_type": "code",
      "metadata": {
        "colab": {
          "base_uri": "https://localhost:8080/",
          "height": 196
        },
        "id": "EY0I9Vrajb2V",
        "outputId": "3d707016-ae0a-4fc4-8e56-c6e9dd83a17b"
      },
      "source": [
        "df_new = data.copy()\r\n",
        "\r\n",
        "df_new.rename(columns={'Sentiment' : 'Data'} , inplace= True)\r\n",
        "\r\n",
        "df_new.head()"
      ],
      "execution_count": null,
      "outputs": [
        {
          "output_type": "execute_result",
          "data": {
            "text/html": [
              "<div>\n",
              "<style scoped>\n",
              "    .dataframe tbody tr th:only-of-type {\n",
              "        vertical-align: middle;\n",
              "    }\n",
              "\n",
              "    .dataframe tbody tr th {\n",
              "        vertical-align: top;\n",
              "    }\n",
              "\n",
              "    .dataframe thead th {\n",
              "        text-align: right;\n",
              "    }\n",
              "</style>\n",
              "<table border=\"1\" class=\"dataframe\">\n",
              "  <thead>\n",
              "    <tr style=\"text-align: right;\">\n",
              "      <th></th>\n",
              "      <th>date</th>\n",
              "      <th>tweet</th>\n",
              "      <th>process_tweet</th>\n",
              "      <th>Subjectivity</th>\n",
              "      <th>Polarity</th>\n",
              "      <th>Data</th>\n",
              "    </tr>\n",
              "  </thead>\n",
              "  <tbody>\n",
              "    <tr>\n",
              "      <th>0</th>\n",
              "      <td>2020-10-22</td>\n",
              "      <td>@ANI Isn't it the best poll promise ever?? Fre...</td>\n",
              "      <td>isnt best poll promis ever free covid vaccin v...</td>\n",
              "      <td>0.517500</td>\n",
              "      <td>0.197500</td>\n",
              "      <td>Positive</td>\n",
              "    </tr>\n",
              "    <tr>\n",
              "      <th>1</th>\n",
              "      <td>2020-10-22</td>\n",
              "      <td>Now states shall have wait for thier Vidhan Sa...</td>\n",
              "      <td>state shall wait thier vidhan sabha elect get ...</td>\n",
              "      <td>0.900000</td>\n",
              "      <td>0.800000</td>\n",
              "      <td>Strongly Positive</td>\n",
              "    </tr>\n",
              "    <tr>\n",
              "      <th>3</th>\n",
              "      <td>2020-10-22</td>\n",
              "      <td>@MisseeMonis They said vaccine for all but not...</td>\n",
              "      <td>said vaccin free covid vaccin new lakh rs ever...</td>\n",
              "      <td>0.718182</td>\n",
              "      <td>0.378788</td>\n",
              "      <td>Positive</td>\n",
              "    </tr>\n",
              "    <tr>\n",
              "      <th>4</th>\n",
              "      <td>2020-10-22</td>\n",
              "      <td>BJP really presenting \"free COVID vaccine\" as ...</td>\n",
              "      <td>bjp realli present free covid vaccin state man...</td>\n",
              "      <td>0.525000</td>\n",
              "      <td>0.500000</td>\n",
              "      <td>Positive</td>\n",
              "    </tr>\n",
              "    <tr>\n",
              "      <th>5</th>\n",
              "      <td>2020-10-22</td>\n",
              "      <td>Another dose of daily miserablism from Planet ...</td>\n",
              "      <td>anoth dose daili miserabl planet grauniad sub ...</td>\n",
              "      <td>0.000000</td>\n",
              "      <td>0.000000</td>\n",
              "      <td>Neutral</td>\n",
              "    </tr>\n",
              "  </tbody>\n",
              "</table>\n",
              "</div>"
            ],
            "text/plain": [
              "         date  ...               Data\n",
              "0  2020-10-22  ...           Positive\n",
              "1  2020-10-22  ...  Strongly Positive\n",
              "3  2020-10-22  ...           Positive\n",
              "4  2020-10-22  ...           Positive\n",
              "5  2020-10-22  ...            Neutral\n",
              "\n",
              "[5 rows x 6 columns]"
            ]
          },
          "metadata": {
            "tags": []
          },
          "execution_count": 36
        }
      ]
    },
    {
      "cell_type": "code",
      "metadata": {
        "colab": {
          "base_uri": "https://localhost:8080/",
          "height": 337
        },
        "id": "OGCUa1AUYrDV",
        "outputId": "9cc685d3-ab54-47f6-e98b-bc44858669cc"
      },
      "source": [
        "#label graph\r\n",
        "\r\n",
        "labels = data.groupby('Sentiment' ,as_index= True).count().index.values\r\n",
        "\r\n",
        "values = data.groupby('Sentiment').size().values\r\n",
        "\r\n",
        "plt.figure(figsize=(10,5))\r\n",
        "\r\n",
        "plt.bar(labels ,values)"
      ],
      "execution_count": null,
      "outputs": [
        {
          "output_type": "execute_result",
          "data": {
            "text/plain": [
              "<BarContainer object of 5 artists>"
            ]
          },
          "metadata": {
            "tags": []
          },
          "execution_count": 37
        },
        {
          "output_type": "display_data",
          "data": {
            "image/png": "[encoded data removed]",
            "text/plain": [
              "<Figure size 720x360 with 1 Axes>"
            ]
          },
          "metadata": {
            "tags": [],
            "needs_background": "light"
          }
        }
      ]
    },
    {
      "cell_type": "code",
      "metadata": {
        "id": "N3DKRxLIUAoY"
      },
      "source": [
        "#'Strongly Negative' ,'Negative' , 'Neutral' , 'Positive' , 'Strongly Positive'"
      ],
      "execution_count": null,
      "outputs": []
    },
    {
      "cell_type": "code",
      "metadata": {
        "colab": {
          "base_uri": "https://localhost:8080/",
          "height": 416
        },
        "id": "xVldFQptR54n",
        "outputId": "b122a743-7d07-41b3-f659-b298dc934f2c"
      },
      "source": [
        "import seaborn as sns\r\n",
        "\r\n",
        "df_new = data['Sentiment'].copy()\r\n",
        "#df_new.head()\r\n",
        "\r\n",
        "plt.figure(figsize=(10,5))\r\n",
        "df_new.value_counts()[['Strongly Negative' ,'Negative' , 'Neutral' , 'Positive' , 'Strongly Positive']].plot(kind=\"bar\")\r\n",
        "\r\n",
        "\r\n",
        "#df_new.Sentiment.value_counts()[['Strongly Negative' ,'Negative' , 'Neutral' , 'Positive' , 'Strongly Positive']].plot(kind=\"bar\")\r\n",
        "#sns.countplot(x='Sentiment', data=df_new, order=['Strongly Negative' ,'Negative' , 'Neutral' , 'Positive' , 'Strongly Positive']);"
      ],
      "execution_count": null,
      "outputs": [
        {
          "output_type": "execute_result",
          "data": {
            "text/plain": [
              "<matplotlib.axes._subplots.AxesSubplot at 0x7f6508f33da0>"
            ]
          },
          "metadata": {
            "tags": []
          },
          "execution_count": 39
        },
        {
          "output_type": "display_data",
          "data": {
            "image/png": "[encoded data removed]",
            "text/plain": [
              "<Figure size 720x360 with 1 Axes>"
            ]
          },
          "metadata": {
            "tags": [],
            "needs_background": "light"
          }
        }
      ]
    },
    {
      "cell_type": "code",
      "metadata": {
        "colab": {
          "base_uri": "https://localhost:8080/",
          "height": 334
        },
        "id": "srgy9EWoWdGI",
        "outputId": "cdfb824a-94c2-40a0-fdea-21d089dc15e7"
      },
      "source": [
        "\r\n",
        "\r\n",
        "df_new = data.copy()\r\n",
        "\r\n",
        "plt.figure(figsize=(10,5))\r\n",
        "sns.countplot(x='Sentiment', data=df_new, order=['Strongly Negative' ,'Negative' , 'Neutral' , 'Positive' , 'Strongly Positive']);"
      ],
      "execution_count": null,
      "outputs": [
        {
          "output_type": "display_data",
          "data": {
            "image/png": "[encoded data removed]",
            "text/plain": [
              "<Figure size 720x360 with 1 Axes>"
            ]
          },
          "metadata": {
            "tags": [],
            "needs_background": "light"
          }
        }
      ]
    },
    {
      "cell_type": "code",
      "metadata": {
        "id": "iTuWiRwQc1wt"
      },
      "source": [
        "#data.to_csv('Vaccine_Label_Data.csv')"
      ],
      "execution_count": null,
      "outputs": []
    },
    {
      "cell_type": "code",
      "metadata": {
        "colab": {
          "base_uri": "https://localhost:8080/",
          "height": 296
        },
        "id": "UiAGr_2LY1G-",
        "outputId": "071f2bc4-cab6-4cc3-9014-5b9a7cf50843"
      },
      "source": [
        "data['process_tweet'].str.len().plot.hist()\r\n",
        "plt.xlabel('Word Length')\r\n",
        "plt.ylabel('Num of Tweet ')"
      ],
      "execution_count": null,
      "outputs": [
        {
          "output_type": "execute_result",
          "data": {
            "text/plain": [
              "Text(0, 0.5, 'Num of Tweet ')"
            ]
          },
          "metadata": {
            "tags": []
          },
          "execution_count": 42
        },
        {
          "output_type": "display_data",
          "data": {
            "image/png": "[encoded data removed]",
            "text/plain": [
              "<Figure size 432x288 with 1 Axes>"
            ]
          },
          "metadata": {
            "tags": [],
            "needs_background": "light"
          }
        }
      ]
    },
    {
      "cell_type": "code",
      "metadata": {
        "id": "NDylelzaY1Os"
      },
      "source": [
        "#import library for deep learning\r\n",
        "from sklearn.model_selection import train_test_split\r\n",
        "\r\n",
        "\r\n",
        "from keras.models import Sequential, load_model\r\n",
        "from keras.layers import Dense, LSTM, Embedding, Dropout\r\n",
        "from keras.preprocessing.text import Tokenizer\r\n",
        "from keras.preprocessing.sequence import pad_sequences"
      ],
      "execution_count": null,
      "outputs": []
    },
    {
      "cell_type": "code",
      "metadata": {
        "colab": {
          "base_uri": "https://localhost:8080/",
          "height": 196
        },
        "id": "fJ0PZxIPY1XP",
        "outputId": "f8597a2b-200b-45dd-c730-5a4c3c4fdaa9"
      },
      "source": [
        "\r\n",
        "#for deep learning we need to only 2 colums(sentiment and process tweet)\r\n",
        "data = data[['Sentiment','process_tweet' ]]\r\n",
        "data.head()"
      ],
      "execution_count": null,
      "outputs": [
        {
          "output_type": "execute_result",
          "data": {
            "text/html": [
              "<div>\n",
              "<style scoped>\n",
              "    .dataframe tbody tr th:only-of-type {\n",
              "        vertical-align: middle;\n",
              "    }\n",
              "\n",
              "    .dataframe tbody tr th {\n",
              "        vertical-align: top;\n",
              "    }\n",
              "\n",
              "    .dataframe thead th {\n",
              "        text-align: right;\n",
              "    }\n",
              "</style>\n",
              "<table border=\"1\" class=\"dataframe\">\n",
              "  <thead>\n",
              "    <tr style=\"text-align: right;\">\n",
              "      <th></th>\n",
              "      <th>Sentiment</th>\n",
              "      <th>process_tweet</th>\n",
              "    </tr>\n",
              "  </thead>\n",
              "  <tbody>\n",
              "    <tr>\n",
              "      <th>0</th>\n",
              "      <td>Positive</td>\n",
              "      <td>isnt best poll promis ever free covid vaccin v...</td>\n",
              "    </tr>\n",
              "    <tr>\n",
              "      <th>1</th>\n",
              "      <td>Strongly Positive</td>\n",
              "      <td>state shall wait thier vidhan sabha elect get ...</td>\n",
              "    </tr>\n",
              "    <tr>\n",
              "      <th>3</th>\n",
              "      <td>Positive</td>\n",
              "      <td>said vaccin free covid vaccin new lakh rs ever...</td>\n",
              "    </tr>\n",
              "    <tr>\n",
              "      <th>4</th>\n",
              "      <td>Positive</td>\n",
              "      <td>bjp realli present free covid vaccin state man...</td>\n",
              "    </tr>\n",
              "    <tr>\n",
              "      <th>5</th>\n",
              "      <td>Neutral</td>\n",
              "      <td>anoth dose daili miserabl planet grauniad sub ...</td>\n",
              "    </tr>\n",
              "  </tbody>\n",
              "</table>\n",
              "</div>"
            ],
            "text/plain": [
              "           Sentiment                                      process_tweet\n",
              "0           Positive  isnt best poll promis ever free covid vaccin v...\n",
              "1  Strongly Positive  state shall wait thier vidhan sabha elect get ...\n",
              "3           Positive  said vaccin free covid vaccin new lakh rs ever...\n",
              "4           Positive  bjp realli present free covid vaccin state man...\n",
              "5            Neutral  anoth dose daili miserabl planet grauniad sub ..."
            ]
          },
          "metadata": {
            "tags": []
          },
          "execution_count": 44
        }
      ]
    },
    {
      "cell_type": "code",
      "metadata": {
        "id": "8Pld3dFuY1ba"
      },
      "source": [
        "data1 = data.copy()      #########    for experiment ,max_words"
      ],
      "execution_count": null,
      "outputs": []
    },
    {
      "cell_type": "code",
      "metadata": {
        "colab": {
          "base_uri": "https://localhost:8080/",
          "height": 196
        },
        "id": "eZYTkyCcYxbt",
        "outputId": "38a55d43-7b82-439e-a2b7-62509cfccce2"
      },
      "source": [
        "data1.head()"
      ],
      "execution_count": null,
      "outputs": [
        {
          "output_type": "execute_result",
          "data": {
            "text/html": [
              "<div>\n",
              "<style scoped>\n",
              "    .dataframe tbody tr th:only-of-type {\n",
              "        vertical-align: middle;\n",
              "    }\n",
              "\n",
              "    .dataframe tbody tr th {\n",
              "        vertical-align: top;\n",
              "    }\n",
              "\n",
              "    .dataframe thead th {\n",
              "        text-align: right;\n",
              "    }\n",
              "</style>\n",
              "<table border=\"1\" class=\"dataframe\">\n",
              "  <thead>\n",
              "    <tr style=\"text-align: right;\">\n",
              "      <th></th>\n",
              "      <th>Sentiment</th>\n",
              "      <th>process_tweet</th>\n",
              "    </tr>\n",
              "  </thead>\n",
              "  <tbody>\n",
              "    <tr>\n",
              "      <th>0</th>\n",
              "      <td>Positive</td>\n",
              "      <td>isnt best poll promis ever free covid vaccin v...</td>\n",
              "    </tr>\n",
              "    <tr>\n",
              "      <th>1</th>\n",
              "      <td>Strongly Positive</td>\n",
              "      <td>state shall wait thier vidhan sabha elect get ...</td>\n",
              "    </tr>\n",
              "    <tr>\n",
              "      <th>3</th>\n",
              "      <td>Positive</td>\n",
              "      <td>said vaccin free covid vaccin new lakh rs ever...</td>\n",
              "    </tr>\n",
              "    <tr>\n",
              "      <th>4</th>\n",
              "      <td>Positive</td>\n",
              "      <td>bjp realli present free covid vaccin state man...</td>\n",
              "    </tr>\n",
              "    <tr>\n",
              "      <th>5</th>\n",
              "      <td>Neutral</td>\n",
              "      <td>anoth dose daili miserabl planet grauniad sub ...</td>\n",
              "    </tr>\n",
              "  </tbody>\n",
              "</table>\n",
              "</div>"
            ],
            "text/plain": [
              "           Sentiment                                      process_tweet\n",
              "0           Positive  isnt best poll promis ever free covid vaccin v...\n",
              "1  Strongly Positive  state shall wait thier vidhan sabha elect get ...\n",
              "3           Positive  said vaccin free covid vaccin new lakh rs ever...\n",
              "4           Positive  bjp realli present free covid vaccin state man...\n",
              "5            Neutral  anoth dose daili miserabl planet grauniad sub ..."
            ]
          },
          "metadata": {
            "tags": []
          },
          "execution_count": 46
        }
      ]
    },
    {
      "cell_type": "code",
      "metadata": {
        "colab": {
          "base_uri": "https://localhost:8080/",
          "height": 196
        },
        "id": "t1SNInACd4_o",
        "outputId": "d1856147-e9c5-46ee-e0a9-0cf94e8e1fd8"
      },
      "source": [
        "data1 = data1.reset_index(drop=True) #for removing missig index \r\n",
        "\r\n",
        "#see previous index 3 is replaced by new index 2\r\n",
        "data1.head() "
      ],
      "execution_count": null,
      "outputs": [
        {
          "output_type": "execute_result",
          "data": {
            "text/html": [
              "<div>\n",
              "<style scoped>\n",
              "    .dataframe tbody tr th:only-of-type {\n",
              "        vertical-align: middle;\n",
              "    }\n",
              "\n",
              "    .dataframe tbody tr th {\n",
              "        vertical-align: top;\n",
              "    }\n",
              "\n",
              "    .dataframe thead th {\n",
              "        text-align: right;\n",
              "    }\n",
              "</style>\n",
              "<table border=\"1\" class=\"dataframe\">\n",
              "  <thead>\n",
              "    <tr style=\"text-align: right;\">\n",
              "      <th></th>\n",
              "      <th>Sentiment</th>\n",
              "      <th>process_tweet</th>\n",
              "    </tr>\n",
              "  </thead>\n",
              "  <tbody>\n",
              "    <tr>\n",
              "      <th>0</th>\n",
              "      <td>Positive</td>\n",
              "      <td>isnt best poll promis ever free covid vaccin v...</td>\n",
              "    </tr>\n",
              "    <tr>\n",
              "      <th>1</th>\n",
              "      <td>Strongly Positive</td>\n",
              "      <td>state shall wait thier vidhan sabha elect get ...</td>\n",
              "    </tr>\n",
              "    <tr>\n",
              "      <th>2</th>\n",
              "      <td>Positive</td>\n",
              "      <td>said vaccin free covid vaccin new lakh rs ever...</td>\n",
              "    </tr>\n",
              "    <tr>\n",
              "      <th>3</th>\n",
              "      <td>Positive</td>\n",
              "      <td>bjp realli present free covid vaccin state man...</td>\n",
              "    </tr>\n",
              "    <tr>\n",
              "      <th>4</th>\n",
              "      <td>Neutral</td>\n",
              "      <td>anoth dose daili miserabl planet grauniad sub ...</td>\n",
              "    </tr>\n",
              "  </tbody>\n",
              "</table>\n",
              "</div>"
            ],
            "text/plain": [
              "           Sentiment                                      process_tweet\n",
              "0           Positive  isnt best poll promis ever free covid vaccin v...\n",
              "1  Strongly Positive  state shall wait thier vidhan sabha elect get ...\n",
              "2           Positive  said vaccin free covid vaccin new lakh rs ever...\n",
              "3           Positive  bjp realli present free covid vaccin state man...\n",
              "4            Neutral  anoth dose daili miserabl planet grauniad sub ..."
            ]
          },
          "metadata": {
            "tags": []
          },
          "execution_count": 47
        }
      ]
    },
    {
      "cell_type": "code",
      "metadata": {
        "colab": {
          "base_uri": "https://localhost:8080/"
        },
        "id": "6CdrbTFuNdYM",
        "outputId": "fc7a8837-0acb-498b-8181-b835a413218a"
      },
      "source": [
        "unique_words = set(data1['process_tweet'])\r\n",
        "count = 0\r\n",
        "for word in unique_words:\r\n",
        "  count += 1\r\n",
        "print(count)"
      ],
      "execution_count": null,
      "outputs": [
        {
          "output_type": "stream",
          "text": [
            "163967\n"
          ],
          "name": "stdout"
        }
      ]
    },
    {
      "cell_type": "code",
      "metadata": {
        "id": "dj404WeUB5w3"
      },
      "source": [
        ""
      ],
      "execution_count": null,
      "outputs": []
    },
    {
      "cell_type": "code",
      "metadata": {
        "id": "8VuSN33QNdfR"
      },
      "source": [
        "#tokenization\r\n",
        "tokenizer = Tokenizer(num_words=163967, split=' ')\r\n",
        "#num_words: the maximum number of words to keep, based on word frequency. Only the most common num_words-1 words will be kept.\r\n",
        "\r\n",
        "\r\n",
        "tokenizer.fit_on_texts(data1['process_tweet'].values)\r\n",
        "\r\n",
        "X = tokenizer.texts_to_sequences(data1['process_tweet'].values)"
      ],
      "execution_count": null,
      "outputs": []
    },
    {
      "cell_type": "code",
      "metadata": {
        "colab": {
          "base_uri": "https://localhost:8080/"
        },
        "id": "MDG5u0gjNdjT",
        "outputId": "9bdcdde1-0142-4091-d53a-0576c284f86b"
      },
      "source": [
        "X[:3] #before padding"
      ],
      "execution_count": null,
      "outputs": [
        {
          "output_type": "execute_result",
          "data": {
            "text/plain": [
              "[[200,\n",
              "  247,\n",
              "  365,\n",
              "  199,\n",
              "  225,\n",
              "  144,\n",
              "  2,\n",
              "  1,\n",
              "  291,\n",
              "  1808,\n",
              "  59,\n",
              "  16,\n",
              "  291,\n",
              "  91,\n",
              "  2430,\n",
              "  104,\n",
              "  177,\n",
              "  1116,\n",
              "  364,\n",
              "  1,\n",
              "  134,\n",
              "  860,\n",
              "  1808,\n",
              "  7304,\n",
              "  9652,\n",
              "  90,\n",
              "  345,\n",
              "  105,\n",
              "  1947,\n",
              "  450,\n",
              "  733],\n",
              " [134, 1771, 59, 7777, 28152, 14302, 93, 3, 2, 1, 10978],\n",
              " [52, 1, 144, 2, 1, 37, 1269, 1405, 124, 712, 576, 7532]]"
            ]
          },
          "metadata": {
            "tags": []
          },
          "execution_count": 50
        }
      ]
    },
    {
      "cell_type": "code",
      "metadata": {
        "colab": {
          "base_uri": "https://localhost:8080/"
        },
        "id": "a5dbMPpRNdnc",
        "outputId": "958a798a-83f8-4690-b703-0c030c845175"
      },
      "source": [
        "#padding to make all text vector to same length\r\n",
        "\r\n",
        "X = pad_sequences(X)\r\n",
        "\r\n",
        "X[:3] #after padding"
      ],
      "execution_count": null,
      "outputs": [
        {
          "output_type": "execute_result",
          "data": {
            "text/plain": [
              "array([[    0,     0,     0,     0,     0,     0,     0,     0,     0,\n",
              "            0,     0,     0,     0,     0,     0,     0,     0,     0,\n",
              "            0,     0,   200,   247,   365,   199,   225,   144,     2,\n",
              "            1,   291,  1808,    59,    16,   291,    91,  2430,   104,\n",
              "          177,  1116,   364,     1,   134,   860,  1808,  7304,  9652,\n",
              "           90,   345,   105,  1947,   450,   733],\n",
              "       [    0,     0,     0,     0,     0,     0,     0,     0,     0,\n",
              "            0,     0,     0,     0,     0,     0,     0,     0,     0,\n",
              "            0,     0,     0,     0,     0,     0,     0,     0,     0,\n",
              "            0,     0,     0,     0,     0,     0,     0,     0,     0,\n",
              "            0,     0,     0,     0,   134,  1771,    59,  7777, 28152,\n",
              "        14302,    93,     3,     2,     1, 10978],\n",
              "       [    0,     0,     0,     0,     0,     0,     0,     0,     0,\n",
              "            0,     0,     0,     0,     0,     0,     0,     0,     0,\n",
              "            0,     0,     0,     0,     0,     0,     0,     0,     0,\n",
              "            0,     0,     0,     0,     0,     0,     0,     0,     0,\n",
              "            0,     0,     0,    52,     1,   144,     2,     1,    37,\n",
              "         1269,  1405,   124,   712,   576,  7532]], dtype=int32)"
            ]
          },
          "metadata": {
            "tags": []
          },
          "execution_count": 51
        }
      ]
    },
    {
      "cell_type": "code",
      "metadata": {
        "colab": {
          "base_uri": "https://localhost:8080/"
        },
        "id": "9xNeAywwNdq5",
        "outputId": "5eb748d8-634e-4b41-b019-f0a70d239bc4"
      },
      "source": [
        "X.shape[1]"
      ],
      "execution_count": null,
      "outputs": [
        {
          "output_type": "execute_result",
          "data": {
            "text/plain": [
              "51"
            ]
          },
          "metadata": {
            "tags": []
          },
          "execution_count": 52
        }
      ]
    },
    {
      "cell_type": "code",
      "metadata": {
        "id": "1vI-57qSNdt3"
      },
      "source": [
        "#creating models\r\n",
        "\r\n",
        "model= Sequential()\r\n",
        "model.add(Embedding(163967, 256 , input_length=X.shape[1]))\r\n",
        "model.add(Dropout(0.3))\r\n",
        "\r\n",
        "model.add(LSTM(256 , return_sequences=True , dropout=0.3 , recurrent_dropout=0.3))\r\n",
        "model.add(LSTM(256,dropout=0.3 ,return_sequences=True , recurrent_dropout=0.3))\r\n",
        "\r\n",
        "model.add(LSTM(128 , return_sequences=True , dropout=0.3 , recurrent_dropout=0.3))\r\n",
        "model.add(LSTM(128,dropout=0.3 , recurrent_dropout=0.3))\r\n",
        "\r\n",
        "\r\n",
        "model.add(Dense(5 , activation='softmax'))\r\n"
      ],
      "execution_count": null,
      "outputs": []
    },
    {
      "cell_type": "code",
      "metadata": {
        "colab": {
          "base_uri": "https://localhost:8080/"
        },
        "id": "kKPW6S6JNdwn",
        "outputId": "8650f9cd-c963-44fa-8b3b-3487b448f291"
      },
      "source": [
        "model.summary()"
      ],
      "execution_count": null,
      "outputs": [
        {
          "output_type": "stream",
          "text": [
            "Model: \"sequential\"\n",
            "_________________________________________________________________\n",
            "Layer (type)                 Output Shape              Param #   \n",
            "=================================================================\n",
            "embedding (Embedding)        (None, 51, 256)           41975552  \n",
            "_________________________________________________________________\n",
            "dropout (Dropout)            (None, 51, 256)           0         \n",
            "_________________________________________________________________\n",
            "lstm (LSTM)                  (None, 51, 256)           525312    \n",
            "_________________________________________________________________\n",
            "lstm_1 (LSTM)                (None, 51, 256)           525312    \n",
            "_________________________________________________________________\n",
            "lstm_2 (LSTM)                (None, 51, 128)           197120    \n",
            "_________________________________________________________________\n",
            "lstm_3 (LSTM)                (None, 128)               131584    \n",
            "_________________________________________________________________\n",
            "dense (Dense)                (None, 5)                 645       \n",
            "=================================================================\n",
            "Total params: 43,355,525\n",
            "Trainable params: 43,355,525\n",
            "Non-trainable params: 0\n",
            "_________________________________________________________________\n"
          ],
          "name": "stdout"
        }
      ]
    },
    {
      "cell_type": "code",
      "metadata": {
        "id": "fm-mGnBEX8S2"
      },
      "source": [
        "model.compile(optimizer='adam' , loss = 'categorical_crossentropy' , metrics=['accuracy'])"
      ],
      "execution_count": null,
      "outputs": []
    },
    {
      "cell_type": "code",
      "metadata": {
        "colab": {
          "base_uri": "https://localhost:8080/"
        },
        "id": "ypn4KFUMX8WS",
        "outputId": "d789eaa4-780a-45c8-97e6-c98612a19a7c"
      },
      "source": [
        "#one hot encoding\r\n",
        "\r\n",
        "y = pd.get_dummies(data1['Sentiment']).values\r\n",
        "\r\n",
        "[print(data1['Sentiment'][i] ,y[i]) for i in range(0,5)]"
      ],
      "execution_count": null,
      "outputs": [
        {
          "output_type": "stream",
          "text": [
            "Positive [0 0 1 0 0]\n",
            "Strongly Positive [0 0 0 0 1]\n",
            "Positive [0 0 1 0 0]\n",
            "Positive [0 0 1 0 0]\n",
            "Neutral [0 1 0 0 0]\n"
          ],
          "name": "stdout"
        },
        {
          "output_type": "execute_result",
          "data": {
            "text/plain": [
              "[None, None, None, None, None]"
            ]
          },
          "metadata": {
            "tags": []
          },
          "execution_count": 56
        }
      ]
    },
    {
      "cell_type": "code",
      "metadata": {
        "id": "w-IlUUvqX8aa"
      },
      "source": [
        "x_train , x_test , y_train , y_test = train_test_split(X , y , test_size = 0.2 ,random_state = 22)"
      ],
      "execution_count": null,
      "outputs": []
    },
    {
      "cell_type": "code",
      "metadata": {
        "id": "C0piOTG2X8d5"
      },
      "source": [
        "#trannig model\r\n",
        "batch_size = 128\r\n",
        "epochs = 10"
      ],
      "execution_count": null,
      "outputs": []
    },
    {
      "cell_type": "code",
      "metadata": {
        "colab": {
          "base_uri": "https://localhost:8080/"
        },
        "id": "hK1tBN32X8hE",
        "outputId": "d3c5044d-c12f-4097-a16d-5ceefbf1c990"
      },
      "source": [
        "history = model.fit(x_train , y_train ,\r\n",
        "          epochs = epochs,\r\n",
        "          batch_size = batch_size,\r\n",
        "          validation_split=0.1,\r\n",
        "          verbose=1)"
      ],
      "execution_count": null,
      "outputs": [
        {
          "output_type": "stream",
          "text": [
            "Epoch 1/10\n",
            "1131/1131 [==============================] - 3346s 3s/step - loss: 0.5521 - accuracy: 0.7961 - val_loss: 0.2390 - val_accuracy: 0.9149\n",
            "Epoch 2/10\n",
            "1131/1131 [==============================] - 3335s 3s/step - loss: 0.2206 - accuracy: 0.9231 - val_loss: 0.1496 - val_accuracy: 0.9481\n",
            "Epoch 3/10\n",
            "1131/1131 [==============================] - 3298s 3s/step - loss: 0.1119 - accuracy: 0.9619 - val_loss: 0.0849 - val_accuracy: 0.9758\n",
            "Epoch 4/10\n",
            "1131/1131 [==============================] - 3321s 3s/step - loss: 0.0610 - accuracy: 0.9800 - val_loss: 0.0712 - val_accuracy: 0.9799\n",
            "Epoch 5/10\n",
            "1131/1131 [==============================] - 3312s 3s/step - loss: 0.0439 - accuracy: 0.9861 - val_loss: 0.0618 - val_accuracy: 0.9815\n",
            "Epoch 6/10\n",
            "1131/1131 [==============================] - 3354s 3s/step - loss: 0.0363 - accuracy: 0.9885 - val_loss: 0.0689 - val_accuracy: 0.9808\n",
            "Epoch 7/10\n",
            "1131/1131 [==============================] - 3308s 3s/step - loss: 0.0292 - accuracy: 0.9908 - val_loss: 0.0654 - val_accuracy: 0.9812\n",
            "Epoch 8/10\n",
            "1131/1131 [==============================] - 3311s 3s/step - loss: 0.0242 - accuracy: 0.9923 - val_loss: 0.0684 - val_accuracy: 0.9804\n",
            "Epoch 9/10\n",
            "1131/1131 [==============================] - 3305s 3s/step - loss: 0.0193 - accuracy: 0.9937 - val_loss: 0.0744 - val_accuracy: 0.9813\n",
            "Epoch 10/10\n",
            "1131/1131 [==============================] - 3309s 3s/step - loss: 0.0173 - accuracy: 0.9946 - val_loss: 0.0673 - val_accuracy: 0.9812\n"
          ],
          "name": "stdout"
        }
      ]
    },
    {
      "cell_type": "code",
      "metadata": {
        "id": "8tLUUDmnX8kK",
        "colab": {
          "base_uri": "https://localhost:8080/"
        },
        "outputId": "c2249376-05b3-4d5a-d530-80559be452b2"
      },
      "source": [
        "predictions = model.predict(x_test)\r\n",
        "print('done')"
      ],
      "execution_count": null,
      "outputs": [
        {
          "output_type": "stream",
          "text": [
            "done\n"
          ],
          "name": "stdout"
        }
      ]
    },
    {
      "cell_type": "markdown",
      "metadata": {
        "id": "Pamsrj_r8krh"
      },
      "source": [
        ""
      ]
    },
    {
      "cell_type": "code",
      "metadata": {
        "id": "0PUojuRmX8n6",
        "colab": {
          "base_uri": "https://localhost:8080/"
        },
        "outputId": "9bdce553-6eaf-47f4-ce8b-c4f22ed00fc5"
      },
      "source": [
        "print(predictions)"
      ],
      "execution_count": null,
      "outputs": [
        {
          "output_type": "stream",
          "text": [
            "[[1.2398233e-05 2.8592400e-04 9.9947923e-01 2.6589864e-06 2.1979012e-04]\n",
            " [6.8301713e-05 2.7084531e-04 9.9961555e-01 9.6398674e-07 4.4358556e-05]\n",
            " [1.3345711e-05 9.9995625e-01 2.0466849e-05 5.7980496e-06 4.0917807e-06]\n",
            " ...\n",
            " [1.1832240e-05 6.9228416e-05 9.9991047e-01 5.8177488e-07 7.8946778e-06]\n",
            " [1.8353514e-05 9.9997306e-01 7.0138985e-06 9.0368377e-07 5.9954243e-07]\n",
            " [1.4443370e-05 9.9991894e-01 4.2128817e-05 1.5668698e-05 8.9391369e-06]]\n"
          ],
          "name": "stdout"
        }
      ]
    },
    {
      "cell_type": "code",
      "metadata": {
        "id": "Hr_QI1hPX8sX",
        "colab": {
          "base_uri": "https://localhost:8080/"
        },
        "outputId": "381281a7-2c33-4bff-ef60-b93019807b81"
      },
      "source": [
        "%%time\r\n",
        "score = model.evaluate(x_test, y_test , batch_size = batch_size)\r\n",
        "print()\r\n",
        "print(\"ACCURACY:\",score[1])\r\n",
        "print(\"LOSS:\",score[0])"
      ],
      "execution_count": null,
      "outputs": [
        {
          "output_type": "stream",
          "text": [
            "315/315 [==============================] - 163s 518ms/step - loss: 0.0666 - accuracy: 0.9822\n",
            "\n",
            "ACCURACY: 0.9821917414665222\n",
            "LOSS: 0.0666317418217659\n",
            "CPU times: user 4min 51s, sys: 17.2 s, total: 5min 8s\n",
            "Wall time: 2min 43s\n"
          ],
          "name": "stdout"
        }
      ]
    },
    {
      "cell_type": "code",
      "metadata": {
        "id": "PjQChZKeX8v4",
        "colab": {
          "base_uri": "https://localhost:8080/"
        },
        "outputId": "72cba84f-a883-4dc3-f27c-40d6c95438ea"
      },
      "source": [
        "[print(data1['process_tweet'][i], predictions[i], y_test[i] ) for i in range(1, 3)\r\n",
        "]"
      ],
      "execution_count": null,
      "outputs": [
        {
          "output_type": "stream",
          "text": [
            "state shall wait thier vidhan sabha elect get covid vaccin biharpol [6.8301713e-05 2.7084531e-04 9.9961555e-01 9.6398674e-07 4.4358556e-05] [0 0 1 0 0]\n",
            "said vaccin free covid vaccin new lakh rs everi account kind jumla [1.3345711e-05 9.9995625e-01 2.0466849e-05 5.7980496e-06 4.0917807e-06] [0 1 0 0 0]\n"
          ],
          "name": "stdout"
        },
        {
          "output_type": "execute_result",
          "data": {
            "text/plain": [
              "[None, None]"
            ]
          },
          "metadata": {
            "tags": []
          },
          "execution_count": 63
        }
      ]
    },
    {
      "cell_type": "code",
      "metadata": {
        "id": "cuJsnPMHX8zX",
        "colab": {
          "base_uri": "https://localhost:8080/"
        },
        "outputId": "e4c0a812-dd33-480d-cf21-88ca2c715230"
      },
      "source": [
        "pred1 = np.argmax(predictions , axis=1)\r\n",
        "pred1[:10]"
      ],
      "execution_count": null,
      "outputs": [
        {
          "output_type": "execute_result",
          "data": {
            "text/plain": [
              "array([2, 2, 1, 1, 2, 2, 3, 0, 2, 0])"
            ]
          },
          "metadata": {
            "tags": []
          },
          "execution_count": 64
        }
      ]
    },
    {
      "cell_type": "code",
      "metadata": {
        "id": "A49-jDEwX83K"
      },
      "source": [
        "y_test = np.argmax(y_test , axis=1)\r\n"
      ],
      "execution_count": null,
      "outputs": []
    },
    {
      "cell_type": "code",
      "metadata": {
        "id": "1-Xdag84X86W",
        "colab": {
          "base_uri": "https://localhost:8080/"
        },
        "outputId": "d123a764-4583-4e18-c10b-91199c4a03f2"
      },
      "source": [
        "print(y_train.shape)\r\n",
        "print(x_train.shape)  #160824 trainnig data"
      ],
      "execution_count": null,
      "outputs": [
        {
          "output_type": "stream",
          "text": [
            "(160824, 5)\n",
            "(160824, 51)\n"
          ],
          "name": "stdout"
        }
      ]
    },
    {
      "cell_type": "code",
      "metadata": {
        "id": "s8MqB5w_X89Y",
        "colab": {
          "base_uri": "https://localhost:8080/"
        },
        "outputId": "e716c6e7-9ef3-41d0-d27b-6ffa7eb038e8"
      },
      "source": [
        "print(y_test.shape)\r\n",
        "print(x_test.shape)     #40206 test data"
      ],
      "execution_count": null,
      "outputs": [
        {
          "output_type": "stream",
          "text": [
            "(40206,)\n",
            "(40206, 51)\n"
          ],
          "name": "stdout"
        }
      ]
    },
    {
      "cell_type": "code",
      "metadata": {
        "id": "vEUBGweZX9Ab",
        "colab": {
          "base_uri": "https://localhost:8080/"
        },
        "outputId": "85b7ba5d-d168-4d1f-fd65-2e7cf70a49d3"
      },
      "source": [
        "pos_count, neu_count, neg_count ,str_neg , str_pos = 0, 0, 0 ,0,0\r\n",
        "real_pos, real_neu, real_neg , real_str_neg , real_str_pos= 0, 0, 0,0,0\r\n",
        "for i, prediction in enumerate(predictions):\r\n",
        "    if np.argmax(prediction)==2:\r\n",
        "        pos_count += 1\r\n",
        "    elif np.argmax(prediction)==1:\r\n",
        "        neu_count += 1\r\n",
        "    elif np.argmax(prediction)==3:\r\n",
        "        str_neg +=1\r\n",
        "    elif np.argmax(prediction)==4:\r\n",
        "        str_pos += 1\r\n",
        "    else:\r\n",
        "        neg_count += 1\r\n",
        "    \r\n",
        "    if y_test[i]==2:\r\n",
        "        real_pos += 1\r\n",
        "    elif y_test[i]==1:    \r\n",
        "        real_neu += 1\r\n",
        "    elif y_test[i]==3:    \r\n",
        "        real_str_neg += 1\r\n",
        "    elif y_test[i]==4:    \r\n",
        "        real_str_pos += 1\r\n",
        "    else:\r\n",
        "        real_neg +=1\r\n",
        "\r\n",
        "print('Positive predictions:', pos_count)\r\n",
        "print('Neutral predictions:', neu_count)\r\n",
        "print('Negative predictions:', neg_count)\r\n",
        "print('Strongly Negative predictions:', str_neg)\r\n",
        "print('Strongly Positive predictions:', str_pos)\r\n",
        "print('\\nReal positive:', real_pos)\r\n",
        "print('Real neutral:', real_neu)\r\n",
        "print('Real negative:', real_neg)\r\n",
        "print('Real strongly negative:', real_str_neg)\r\n",
        "print('Real strongly positive:', real_str_pos)\r\n",
        "\r\n",
        "\r\n",
        "print('\\nDifferences(%) : ')\r\n",
        "print('\\nDifference between Real positive and Positive prediction = ' , ((real_pos - pos_count)/real_pos)*-100 )\r\n",
        "print('Difference between Real negative and Negative prediction = ' , ((real_neg - neg_count)/real_neg)*100 )\r\n",
        "print('Difference between Real neutral and Neutral prediction = ' , -((real_neu - neu_count)/real_neu)*100 )\r\n",
        "print('Difference between Real strongly negative and Strongly Negative prediction = ' , ((real_str_neg - str_neg)/real_str_neg)*100 )\r\n",
        "print('Difference between Real strongly positive and Strongly Positive prediction = ' , ((real_str_pos - str_pos)/real_str_pos)*100 )\r\n",
        "\r\n",
        "\r\n",
        "#Total 40206 is our test data "
      ],
      "execution_count": null,
      "outputs": [
        {
          "output_type": "stream",
          "text": [
            "Positive predictions: 11701\n",
            "Neutral predictions: 20140\n",
            "Negative predictions: 6149\n",
            "Strongly Negative predictions: 537\n",
            "Strongly Positive predictions: 1679\n",
            "\n",
            "Real positive: 11685\n",
            "Real neutral: 20194\n",
            "Real negative: 6032\n",
            "Real strongly negative: 541\n",
            "Real strongly positive: 1754\n",
            "\n",
            "Differences(%) : \n",
            "\n",
            "Difference between Real positive and Positive prediction =  0.13692768506632433\n",
            "Difference between Real negative and Negative prediction =  -1.9396551724137931\n",
            "Difference between Real neutral and Neutral prediction =  -0.2674061602456175\n",
            "Difference between Real strongly negative and Strongly Negative prediction =  0.7393715341959335\n",
            "Difference between Real strongly positive and Strongly Positive prediction =  4.275940706955531\n"
          ],
          "name": "stdout"
        }
      ]
    },
    {
      "cell_type": "code",
      "metadata": {
        "id": "AjvwlCWzX9IN",
        "colab": {
          "base_uri": "https://localhost:8080/"
        },
        "outputId": "bc3db046-7052-43d9-a912-73354f67b413"
      },
      "source": [
        "print(confusion_matrix(y_test , pred1 ,normalize=None))"
      ],
      "execution_count": null,
      "outputs": [
        {
          "output_type": "stream",
          "text": [
            "[[ 5865    53    86    28     0]\n",
            " [  108 20022    54     8     2]\n",
            " [  136    64 11455     0    30]\n",
            " [   40     0     0   501     0]\n",
            " [    0     1   106     0  1647]]\n"
          ],
          "name": "stdout"
        }
      ]
    },
    {
      "cell_type": "code",
      "metadata": {
        "id": "70z038ZFY17i",
        "colab": {
          "base_uri": "https://localhost:8080/"
        },
        "outputId": "6d1a8860-c635-4a02-fbdf-a30dc7f75276"
      },
      "source": [
        "print(confusion_matrix(y_test , pred1))"
      ],
      "execution_count": null,
      "outputs": [
        {
          "output_type": "stream",
          "text": [
            "[[ 5865    53    86    28     0]\n",
            " [  108 20022    54     8     2]\n",
            " [  136    64 11455     0    30]\n",
            " [   40     0     0   501     0]\n",
            " [    0     1   106     0  1647]]\n"
          ],
          "name": "stdout"
        }
      ]
    },
    {
      "cell_type": "code",
      "metadata": {
        "id": "Pi4icYQMY1_y",
        "colab": {
          "base_uri": "https://localhost:8080/"
        },
        "outputId": "9b6598f5-733c-4915-ac23-a9b4c321531b"
      },
      "source": [
        "print(classification_report(y_test , pred1))"
      ],
      "execution_count": null,
      "outputs": [
        {
          "output_type": "stream",
          "text": [
            "              precision    recall  f1-score   support\n",
            "\n",
            "           0       0.95      0.97      0.96      6032\n",
            "           1       0.99      0.99      0.99     20194\n",
            "           2       0.98      0.98      0.98     11685\n",
            "           3       0.93      0.93      0.93       541\n",
            "           4       0.98      0.94      0.96      1754\n",
            "\n",
            "    accuracy                           0.98     40206\n",
            "   macro avg       0.97      0.96      0.96     40206\n",
            "weighted avg       0.98      0.98      0.98     40206\n",
            "\n"
          ],
          "name": "stdout"
        }
      ]
    },
    {
      "cell_type": "code",
      "metadata": {
        "id": "s-z8sQKCY2FM",
        "colab": {
          "base_uri": "https://localhost:8080/"
        },
        "outputId": "82ce2f81-8366-4c7b-e051-0c6f44315c82"
      },
      "source": [
        "accuracy_score(y_test , pred1)"
      ],
      "execution_count": null,
      "outputs": [
        {
          "output_type": "execute_result",
          "data": {
            "text/plain": [
              "0.9821917126796995"
            ]
          },
          "metadata": {
            "tags": []
          },
          "execution_count": 72
        }
      ]
    },
    {
      "cell_type": "code",
      "metadata": {
        "id": "hu1T3aXcY2JB",
        "colab": {
          "base_uri": "https://localhost:8080/"
        },
        "outputId": "6e43f42f-60e8-47d8-fa0a-235af17e86e2"
      },
      "source": [
        "print(confusion_matrix(y_test , pred1))"
      ],
      "execution_count": null,
      "outputs": [
        {
          "output_type": "stream",
          "text": [
            "[[ 5865    53    86    28     0]\n",
            " [  108 20022    54     8     2]\n",
            " [  136    64 11455     0    30]\n",
            " [   40     0     0   501     0]\n",
            " [    0     1   106     0  1647]]\n"
          ],
          "name": "stdout"
        }
      ]
    },
    {
      "cell_type": "code",
      "metadata": {
        "id": "SlIjJ8RvY2Q4",
        "colab": {
          "base_uri": "https://localhost:8080/",
          "height": 655
        },
        "outputId": "cc1e449c-31b4-4a10-e359-28eca0f5dac5"
      },
      "source": [
        "plt.figure(figsize=(10,5))\r\n",
        "acc = history.history['accuracy']\r\n",
        "val_acc = history.history['val_accuracy']\r\n",
        "loss = history.history['loss']\r\n",
        "val_loss = history.history['val_loss']\r\n",
        " \r\n",
        "epochs = range(len(acc))\r\n",
        " \r\n",
        "plt.plot(epochs, acc, 'b', label='Training acc')\r\n",
        "plt.plot(epochs, val_acc, 'r', label='Validation acc')\r\n",
        "plt.title('Training and Validation accuracy')\r\n",
        "plt.legend()\r\n",
        "plt.grid(True)\r\n",
        " \r\n",
        "plt.figure(figsize=(10,5))\r\n",
        " \r\n",
        "plt.plot(epochs, loss, 'b', label='Training loss')\r\n",
        "plt.plot(epochs, val_loss, 'r', label='Validation loss')\r\n",
        "plt.title('Training and Validation loss')\r\n",
        "plt.grid(True)\r\n",
        "plt.legend()\r\n",
        "\r\n",
        "plt.show()\r\n"
      ],
      "execution_count": null,
      "outputs": [
        {
          "output_type": "display_data",
          "data": {
            "image/png": "[encoded data removed]",
            "text/plain": [
              "<Figure size 720x360 with 1 Axes>"
            ]
          },
          "metadata": {
            "tags": [],
            "needs_background": "light"
          }
        },
        {
          "output_type": "display_data",
          "data": {
            "image/png": "[encoded data removed]",
            "text/plain": [
              "<Figure size 720x360 with 1 Axes>"
            ]
          },
          "metadata": {
            "tags": [],
            "needs_background": "light"
          }
        }
      ]
    },
    {
      "cell_type": "code",
      "metadata": {
        "id": "cTE7ZvGpNd0n",
        "colab": {
          "base_uri": "https://localhost:8080/",
          "height": 462
        },
        "outputId": "89babd83-5330-4de1-8ebf-d9799a9baf22"
      },
      "source": [
        "epochs = [i for i in range(10)]\r\n",
        "fig , ax = plt.subplots(1,2)\r\n",
        "train_acc = history.history['accuracy']\r\n",
        "train_loss = history.history['loss']\r\n",
        "val_acc = history.history['val_accuracy']\r\n",
        "val_loss = history.history['val_loss']\r\n",
        "fig.set_size_inches(30,10)\r\n",
        "\r\n",
        "\r\n",
        "ax[0].plot(epochs , train_acc , 'go-' , label = 'Training Accuracy')\r\n",
        "ax[0].plot(epochs , val_acc , 'ro-' , label = 'Validation Accuracy')\r\n",
        "ax[0].set_title('Training & Validation Accuracy')\r\n",
        "\r\n",
        "ax[0].legend()\r\n",
        "ax[0].set_xlabel(\"Epochs\")\r\n",
        "ax[0].set_ylabel(\"Accuracy\")\r\n",
        "\r\n",
        "\r\n",
        "ax[1].plot(epochs , train_loss , 'g-o' , label = 'Training Loss')\r\n",
        "ax[1].plot(epochs , val_loss , 'r-o' , label = 'Validation Loss')\r\n",
        "ax[1].set_title('Testing Accuracy & Loss')\r\n",
        "ax[1].legend()\r\n",
        "ax[1].set_xlabel(\"Epochs\")\r\n",
        "ax[1].set_ylabel(\"Training & Validation Loss\")\r\n",
        "plt.show()"
      ],
      "execution_count": null,
      "outputs": [
        {
          "output_type": "display_data",
          "data": {
            "image/png": "[encoded data removed]",
            "text/plain": [
              "<Figure size 2160x720 with 2 Axes>"
            ]
          },
          "metadata": {
            "tags": [],
            "needs_background": "light"
          }
        }
      ]
    },
    {
      "cell_type": "code",
      "metadata": {
        "id": "d-CrDU2cZEBJ",
        "colab": {
          "base_uri": "https://localhost:8080/",
          "height": 350
        },
        "outputId": "b284fe66-4c42-41e4-f92a-a1fae17ed0b7"
      },
      "source": [
        "epochs = [i for i in range(10)]\r\n",
        "\r\n",
        "train_acc = history.history['accuracy']\r\n",
        "train_loss = history.history['loss']\r\n",
        "val_acc = history.history['val_accuracy']\r\n",
        "val_loss = history.history['val_loss']\r\n",
        "\r\n",
        "plt.figure(figsize=(10,5))\r\n",
        "\r\n",
        "\r\n",
        "plt.plot(epochs , train_acc , 'go-' , label = 'Training Accuracy')\r\n",
        "plt.plot(epochs , val_acc , 'ro-' , label = 'Validation Accuracy')\r\n",
        "plt.title('Training & Validation Accuracy')\r\n",
        "\r\n",
        "plt.legend()\r\n",
        "plt.xlabel(\"Epochs\")\r\n",
        "plt.ylabel(\"Accuracy\")\r\n",
        "\r\n",
        "plt.show()"
      ],
      "execution_count": null,
      "outputs": [
        {
          "output_type": "display_data",
          "data": {
            "image/png": "[encoded data removed]",
            "text/plain": [
              "<Figure size 720x360 with 1 Axes>"
            ]
          },
          "metadata": {
            "tags": [],
            "needs_background": "light"
          }
        }
      ]
    },
    {
      "cell_type": "code",
      "metadata": {
        "id": "Cb_MisHLZEFh",
        "colab": {
          "base_uri": "https://localhost:8080/",
          "height": 350
        },
        "outputId": "6e58cb88-680a-4b38-d0bd-f18b0887b7f2"
      },
      "source": [
        "epochs = [i for i in range(10)]\r\n",
        "\r\n",
        "train_acc = history.history['accuracy']\r\n",
        "train_loss = history.history['loss']\r\n",
        "val_acc = history.history['val_accuracy']\r\n",
        "val_loss = history.history['val_loss']\r\n",
        "\r\n",
        "plt.figure(figsize=(10,5))\r\n",
        "\r\n",
        "\r\n",
        "plt.plot(epochs , train_loss , 'go-' , label = 'Training Loss')\r\n",
        "plt.plot(epochs , val_loss , 'ro-' , label = 'Validation Loss')\r\n",
        "plt.title('Training & Validation Loss')\r\n",
        "\r\n",
        "plt.legend()\r\n",
        "plt.xlabel(\"Epochs\")\r\n",
        "plt.ylabel(\"Loss\")\r\n",
        "\r\n",
        "plt.show()"
      ],
      "execution_count": null,
      "outputs": [
        {
          "output_type": "display_data",
          "data": {
            "image/png": "[encoded data removed]",
            "text/plain": [
              "<Figure size 720x360 with 1 Axes>"
            ]
          },
          "metadata": {
            "tags": [],
            "needs_background": "light"
          }
        }
      ]
    },
    {
      "cell_type": "code",
      "metadata": {
        "id": "fx4S8z4NZELt",
        "colab": {
          "base_uri": "https://localhost:8080/",
          "height": 350
        },
        "outputId": "9e922a90-9667-423e-857b-d0b821518029"
      },
      "source": [
        "import matplotlib.pyplot as plt\r\n",
        "plt.figure(figsize=(10,5))\r\n",
        "ax = data1['Sentiment'].value_counts(sort=False).plot(kind='barh')\r\n",
        "ax.set_xlabel('Number of Samples in training Set')\r\n",
        "ax.set_ylabel('Label')"
      ],
      "execution_count": null,
      "outputs": [
        {
          "output_type": "execute_result",
          "data": {
            "text/plain": [
              "Text(0, 0.5, 'Label')"
            ]
          },
          "metadata": {
            "tags": []
          },
          "execution_count": 78
        },
        {
          "output_type": "display_data",
          "data": {
            "image/png": "[encoded data removed]",
            "text/plain": [
              "<Figure size 720x360 with 1 Axes>"
            ]
          },
          "metadata": {
            "tags": [],
            "needs_background": "light"
          }
        }
      ]
    }
  ]
}