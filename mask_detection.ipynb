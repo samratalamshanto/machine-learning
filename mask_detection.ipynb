{
  "nbformat": 4,
  "nbformat_minor": 0,
  "metadata": {
    "colab": {
      "name": "mask detection.ipynb",
      "provenance": [],
      "collapsed_sections": []
    },
    "kernelspec": {
      "name": "python3",
      "display_name": "Python 3"
    },
    "accelerator": "GPU"
  },
  "cells": [
    {
      "cell_type": "code",
      "metadata": {
        "id": "eC3Ch6SVA2jt"
      },
      "source": [
        "#https://drive.google.com/drive/u/0/folders/1WCxe1EuxLo6qyGVpupcEMTgN83xpgHM_"
      ],
      "execution_count": null,
      "outputs": []
    },
    {
      "cell_type": "code",
      "metadata": {
        "id": "_eD3HA2tw0wI",
        "colab": {
          "base_uri": "https://localhost:8080/",
          "height": 231
        },
        "outputId": "8a8c126f-72de-4c8e-e64b-b05d5ab1d584"
      },
      "source": [
        "import cv2 , os \n",
        "\n",
        "data_path = \"/content/drive/My Drive/Colab Notebooks/dataset/face mask detection/dataset\"\n",
        "categories = os.listdir(data_path)\n",
        "labels = [i for i in range (len(categories))]\n",
        "\n",
        "label_dict = dict(zip(categories , labels))  # empty dict\n",
        "\n",
        "print(label_dict)\n",
        "print(labels)\n",
        "print(categories)"
      ],
      "execution_count": null,
      "outputs": [
        {
          "output_type": "error",
          "ename": "FileNotFoundError",
          "evalue": "ignored",
          "traceback": [
            "\u001b[0;31m---------------------------------------------------------------------------\u001b[0m",
            "\u001b[0;31mFileNotFoundError\u001b[0m                         Traceback (most recent call last)",
            "\u001b[0;32m<ipython-input-1-5e50a1f6c306>\u001b[0m in \u001b[0;36m<module>\u001b[0;34m()\u001b[0m\n\u001b[1;32m      2\u001b[0m \u001b[0;34m\u001b[0m\u001b[0m\n\u001b[1;32m      3\u001b[0m \u001b[0mdata_path\u001b[0m \u001b[0;34m=\u001b[0m \u001b[0;34m\"/content/drive/My Drive/Colab Notebooks/dataset/face mask detection/dataset\"\u001b[0m\u001b[0;34m\u001b[0m\u001b[0;34m\u001b[0m\u001b[0m\n\u001b[0;32m----> 4\u001b[0;31m \u001b[0mcategories\u001b[0m \u001b[0;34m=\u001b[0m \u001b[0mos\u001b[0m\u001b[0;34m.\u001b[0m\u001b[0mlistdir\u001b[0m\u001b[0;34m(\u001b[0m\u001b[0mdata_path\u001b[0m\u001b[0;34m)\u001b[0m\u001b[0;34m\u001b[0m\u001b[0;34m\u001b[0m\u001b[0m\n\u001b[0m\u001b[1;32m      5\u001b[0m \u001b[0mlabels\u001b[0m \u001b[0;34m=\u001b[0m \u001b[0;34m[\u001b[0m\u001b[0mi\u001b[0m \u001b[0;32mfor\u001b[0m \u001b[0mi\u001b[0m \u001b[0;32min\u001b[0m \u001b[0mrange\u001b[0m \u001b[0;34m(\u001b[0m\u001b[0mlen\u001b[0m\u001b[0;34m(\u001b[0m\u001b[0mcategories\u001b[0m\u001b[0;34m)\u001b[0m\u001b[0;34m)\u001b[0m\u001b[0;34m]\u001b[0m\u001b[0;34m\u001b[0m\u001b[0;34m\u001b[0m\u001b[0m\n\u001b[1;32m      6\u001b[0m \u001b[0;34m\u001b[0m\u001b[0m\n",
            "\u001b[0;31mFileNotFoundError\u001b[0m: [Errno 2] No such file or directory: '/content/drive/My Drive/Colab Notebooks/dataset/face mask detection/dataset'"
          ]
        }
      ]
    },
    {
      "cell_type": "code",
      "metadata": {
        "id": "G7wQWl3o9Lgx"
      },
      "source": [
        "img_size = 100\n",
        "data = []\n",
        "target_label = []  #empty list\n",
        "\n",
        "for category in categories:\n",
        "  folder_path = os.path.join(data_path , category) #path = \"dataset/with_mask\"\n",
        "  img_names = os.listdir(folder_path) # all images in that folder\n",
        "\n",
        "  for img_name in img_names:\n",
        "    img_path = os.path.join(folder_path , img_name) #img_path = dataset/with_mask/1.jpg\n",
        "    img = cv2.imread(img_path) #read every image \n",
        "\n",
        "    try:\n",
        "      gray = cv2.cvtColor(img , cv2.COLOR_BGR2GRAY)  #convert color bgr to gray\n",
        "      resize = cv2.resize(gray , (img_size , img_size)) # resize gray img into 100*100\n",
        "      \n",
        "\n",
        "      data.append(resize)\n",
        "      target_label.append(label_dict[category]) #append the value of label_dict[category] \n",
        "    \n",
        "\n",
        "\n",
        "    except Exception as e:\n",
        "      print(\"Exception\" , e)  # if any exception raised then it printed and pass next image\n",
        "\n",
        "      \n",
        "\n",
        "\n",
        "\n",
        "\n",
        "\n"
      ],
      "execution_count": null,
      "outputs": []
    },
    {
      "cell_type": "code",
      "metadata": {
        "id": "eGiS2cPWK74F",
        "colab": {
          "base_uri": "https://localhost:8080/",
          "height": 34
        },
        "outputId": "ed94cce4-ee98-42a0-92a8-82608f7ac8ec"
      },
      "source": [
        "print (\"done\")"
      ],
      "execution_count": null,
      "outputs": [
        {
          "output_type": "stream",
          "text": [
            "done\n"
          ],
          "name": "stdout"
        }
      ]
    },
    {
      "cell_type": "code",
      "metadata": {
        "id": "J7tGDq1EH8Cp",
        "colab": {
          "base_uri": "https://localhost:8080/",
          "height": 231
        },
        "outputId": "867bfc27-9abe-4c58-e9d2-dfe7463dcfea"
      },
      "source": [
        "import numpy as np\n",
        "\n",
        "data = np.array(data)/255.0   #covert image to array and then normalized images into 0 and 1\n",
        "\n",
        "#print(data.shape) #1376,100,100\n",
        "#print(data.shape[0]) #1376\n",
        "\n",
        "data = np.reshape(data , (data.shape[0] , img_size , img_size , 1)) \n",
        "# here 1 is used for converting to a 4-d array bcz nueral network needs 4-d array \n",
        "\n",
        "target = np.array(target_label)\n",
        "#print(target.shape)#total 1376 of mask(1 label) and non-mask(0 label)\n",
        "\n",
        "\n",
        "from keras.utils import np_utils\n",
        "\n",
        "new_target = np_utils.to_categorical(target) \n",
        "# convert to categorical representation .last 2 neourons are 2 categories mask and non-mask\n"
      ],
      "execution_count": null,
      "outputs": [
        {
          "output_type": "error",
          "ename": "NameError",
          "evalue": "ignored",
          "traceback": [
            "\u001b[0;31m---------------------------------------------------------------------------\u001b[0m",
            "\u001b[0;31mNameError\u001b[0m                                 Traceback (most recent call last)",
            "\u001b[0;32m<ipython-input-2-69244ca92b9e>\u001b[0m in \u001b[0;36m<module>\u001b[0;34m()\u001b[0m\n\u001b[1;32m      1\u001b[0m \u001b[0;32mimport\u001b[0m \u001b[0mnumpy\u001b[0m \u001b[0;32mas\u001b[0m \u001b[0mnp\u001b[0m\u001b[0;34m\u001b[0m\u001b[0;34m\u001b[0m\u001b[0m\n\u001b[1;32m      2\u001b[0m \u001b[0;34m\u001b[0m\u001b[0m\n\u001b[0;32m----> 3\u001b[0;31m \u001b[0mdata\u001b[0m \u001b[0;34m=\u001b[0m \u001b[0mnp\u001b[0m\u001b[0;34m.\u001b[0m\u001b[0marray\u001b[0m\u001b[0;34m(\u001b[0m\u001b[0mdata\u001b[0m\u001b[0;34m)\u001b[0m\u001b[0;34m/\u001b[0m\u001b[0;36m255.0\u001b[0m   \u001b[0;31m#covert image to array and then normalized images into 0 and 1\u001b[0m\u001b[0;34m\u001b[0m\u001b[0;34m\u001b[0m\u001b[0m\n\u001b[0m\u001b[1;32m      4\u001b[0m \u001b[0;34m\u001b[0m\u001b[0m\n\u001b[1;32m      5\u001b[0m \u001b[0;31m#print(data.shape) #1376,100,100\u001b[0m\u001b[0;34m\u001b[0m\u001b[0;34m\u001b[0m\u001b[0;34m\u001b[0m\u001b[0m\n",
            "\u001b[0;31mNameError\u001b[0m: name 'data' is not defined"
          ]
        }
      ]
    },
    {
      "cell_type": "code",
      "metadata": {
        "id": "MIJLDwD1Mbm-"
      },
      "source": [
        "np.save('data' ,data) # save data into data array\n",
        "np.save('target' , new_target)#save the target into the new_target"
      ],
      "execution_count": null,
      "outputs": []
    },
    {
      "cell_type": "code",
      "metadata": {
        "id": "T61FC8q4S_H2"
      },
      "source": [
        "#cnn architecture \n"
      ],
      "execution_count": null,
      "outputs": []
    },
    {
      "cell_type": "code",
      "metadata": {
        "id": "D3H9gEKp5CED"
      },
      "source": [
        "from keras.models import Sequential\n",
        "from keras.layers import Dense, Activation , Flatten , Dropout\n",
        "from keras.layers import Conv2D , MaxPooling2D\n",
        "from keras.callbacks import ModelCheckpoint"
      ],
      "execution_count": null,
      "outputs": []
    },
    {
      "cell_type": "code",
      "metadata": {
        "id": "2lhcOoPt6Q2v"
      },
      "source": [
        "model = Sequential()\n",
        "\n",
        "model.add(Conv2D(200 , (3,3), input_shape = data.shape[1:]))\n",
        "model.add(Activation('relu'))\n",
        "model.add(MaxPooling2D(pool_size=(2,2)))\n",
        "#first cnn layer followed by relu and maxpooling layers\n",
        "\n",
        "model.add(Conv2D(100,(3,3)))\n",
        "model.add(Activation('relu'))\n",
        "model.add(MaxPooling2D(pool_size = (2,2)))\n",
        "#2nd cnn layer follwed by relu and maxpooling layers\n",
        "\n",
        "model.add(Flatten())\n",
        "model.add(Dropout(0.5))\n",
        "#flatten layer\n",
        "\n",
        "model.add(Dense(50 , activation='relu')) \n",
        "model.add(Dropout(0.5))\n",
        "#dense layer of 50 neurons\n",
        "\n",
        "model.add(Dense(1,activation= 'sigmoid'))\n",
        "#the final layer with 2 outputs for two categories\n",
        "\n",
        "#model compile\n",
        "model.compile(loss='binary_crossentropy' , optimizer = 'adam' , metrics=['accuracy'])\n"
      ],
      "execution_count": null,
      "outputs": []
    },
    {
      "cell_type": "code",
      "metadata": {
        "id": "WSg6E9DAGXcM",
        "colab": {
          "base_uri": "https://localhost:8080/",
          "height": 550
        },
        "outputId": "dc45ab5c-8681-47b7-ccba-475ab74cd824"
      },
      "source": [
        "model.summary()"
      ],
      "execution_count": null,
      "outputs": [
        {
          "output_type": "stream",
          "text": [
            "Model: \"sequential\"\n",
            "_________________________________________________________________\n",
            "Layer (type)                 Output Shape              Param #   \n",
            "=================================================================\n",
            "conv2d (Conv2D)              (None, 98, 98, 200)       2000      \n",
            "_________________________________________________________________\n",
            "activation (Activation)      (None, 98, 98, 200)       0         \n",
            "_________________________________________________________________\n",
            "max_pooling2d (MaxPooling2D) (None, 49, 49, 200)       0         \n",
            "_________________________________________________________________\n",
            "conv2d_1 (Conv2D)            (None, 47, 47, 100)       180100    \n",
            "_________________________________________________________________\n",
            "activation_1 (Activation)    (None, 47, 47, 100)       0         \n",
            "_________________________________________________________________\n",
            "max_pooling2d_1 (MaxPooling2 (None, 23, 23, 100)       0         \n",
            "_________________________________________________________________\n",
            "flatten (Flatten)            (None, 52900)             0         \n",
            "_________________________________________________________________\n",
            "dropout (Dropout)            (None, 52900)             0         \n",
            "_________________________________________________________________\n",
            "dense (Dense)                (None, 50)                2645050   \n",
            "_________________________________________________________________\n",
            "dropout_1 (Dropout)          (None, 50)                0         \n",
            "_________________________________________________________________\n",
            "dense_1 (Dense)              (None, 1)                 51        \n",
            "=================================================================\n",
            "Total params: 2,827,201\n",
            "Trainable params: 2,827,201\n",
            "Non-trainable params: 0\n",
            "_________________________________________________________________\n"
          ],
          "name": "stdout"
        }
      ]
    },
    {
      "cell_type": "code",
      "metadata": {
        "id": "wc2kxzMeXn6x",
        "colab": {
          "base_uri": "https://localhost:8080/",
          "height": 34
        },
        "outputId": "fec29a07-a7a4-4278-9a2d-69c4b844a483"
      },
      "source": [
        "print(data.shape)"
      ],
      "execution_count": null,
      "outputs": [
        {
          "output_type": "stream",
          "text": [
            "(1376, 100, 100, 1)\n"
          ],
          "name": "stdout"
        }
      ]
    },
    {
      "cell_type": "code",
      "metadata": {
        "id": "vawpddmD_xl9"
      },
      "source": [
        "from sklearn.model_selection import train_test_split\n",
        "\n",
        "train_data,test_data,train_target,test_target = train_test_split(data , target , test_size =0.1)"
      ],
      "execution_count": null,
      "outputs": []
    },
    {
      "cell_type": "code",
      "metadata": {
        "id": "Yl9S9OzhYwFx",
        "colab": {
          "base_uri": "https://localhost:8080/",
          "height": 52
        },
        "outputId": "46aac2ae-d9d9-43dd-95e6-4c37a2c29284"
      },
      "source": [
        "print(train_data.shape)\n",
        "print(train_target.shape)"
      ],
      "execution_count": null,
      "outputs": [
        {
          "output_type": "stream",
          "text": [
            "(1238, 100, 100, 1)\n",
            "(1238,)\n"
          ],
          "name": "stdout"
        }
      ]
    },
    {
      "cell_type": "code",
      "metadata": {
        "id": "Jx7RlsbeB81a",
        "colab": {
          "base_uri": "https://localhost:8080/",
          "height": 1000
        },
        "outputId": "f9b65283-4ddf-4a07-a66a-f00e7081d949"
      },
      "source": [
        "checkpoint = ModelCheckpoint('model-{epoch:03d}.model',monitor='val_loss',verbose=0,save_best_only=True,mode='auto')\n",
        "history=model.fit(train_data,train_target,epochs=20,callbacks=[checkpoint],validation_split=0.2)"
      ],
      "execution_count": null,
      "outputs": [
        {
          "output_type": "stream",
          "text": [
            "Epoch 1/20\n",
            "31/31 [==============================] - ETA: 0s - loss: 0.7082 - accuracy: 0.5222WARNING:tensorflow:From /usr/local/lib/python3.6/dist-packages/tensorflow/python/training/tracking/tracking.py:111: Model.state_updates (from tensorflow.python.keras.engine.training) is deprecated and will be removed in a future version.\n",
            "Instructions for updating:\n",
            "This property should not be used in TensorFlow 2.0, as updates are applied automatically.\n",
            "WARNING:tensorflow:From /usr/local/lib/python3.6/dist-packages/tensorflow/python/training/tracking/tracking.py:111: Layer.updates (from tensorflow.python.keras.engine.base_layer) is deprecated and will be removed in a future version.\n",
            "Instructions for updating:\n",
            "This property should not be used in TensorFlow 2.0, as updates are applied automatically.\n",
            "INFO:tensorflow:Assets written to: model-001.model/assets\n",
            "31/31 [==============================] - 3s 83ms/step - loss: 0.7082 - accuracy: 0.5222 - val_loss: 0.6788 - val_accuracy: 0.7460\n",
            "Epoch 2/20\n",
            "31/31 [==============================] - ETA: 0s - loss: 0.6465 - accuracy: 0.6313INFO:tensorflow:Assets written to: model-002.model/assets\n",
            "31/31 [==============================] - 2s 70ms/step - loss: 0.6465 - accuracy: 0.6313 - val_loss: 0.5236 - val_accuracy: 0.8306\n",
            "Epoch 3/20\n",
            "31/31 [==============================] - ETA: 0s - loss: 0.4798 - accuracy: 0.7768INFO:tensorflow:Assets written to: model-003.model/assets\n",
            "31/31 [==============================] - 2s 67ms/step - loss: 0.4798 - accuracy: 0.7768 - val_loss: 0.3113 - val_accuracy: 0.9194\n",
            "Epoch 4/20\n",
            "31/31 [==============================] - ETA: 0s - loss: 0.3198 - accuracy: 0.8687INFO:tensorflow:Assets written to: model-004.model/assets\n",
            "31/31 [==============================] - 2s 66ms/step - loss: 0.3198 - accuracy: 0.8687 - val_loss: 0.1852 - val_accuracy: 0.9476\n",
            "Epoch 5/20\n",
            "31/31 [==============================] - ETA: 0s - loss: 0.2189 - accuracy: 0.9091INFO:tensorflow:Assets written to: model-005.model/assets\n",
            "31/31 [==============================] - 2s 68ms/step - loss: 0.2189 - accuracy: 0.9091 - val_loss: 0.1831 - val_accuracy: 0.9315\n",
            "Epoch 6/20\n",
            "31/31 [==============================] - ETA: 0s - loss: 0.1843 - accuracy: 0.9354INFO:tensorflow:Assets written to: model-006.model/assets\n",
            "31/31 [==============================] - 2s 71ms/step - loss: 0.1843 - accuracy: 0.9354 - val_loss: 0.1158 - val_accuracy: 0.9556\n",
            "Epoch 7/20\n",
            "31/31 [==============================] - ETA: 0s - loss: 0.1541 - accuracy: 0.9444INFO:tensorflow:Assets written to: model-007.model/assets\n",
            "31/31 [==============================] - 2s 66ms/step - loss: 0.1541 - accuracy: 0.9444 - val_loss: 0.0955 - val_accuracy: 0.9718\n",
            "Epoch 8/20\n",
            "31/31 [==============================] - 1s 39ms/step - loss: 0.1439 - accuracy: 0.9535 - val_loss: 0.1072 - val_accuracy: 0.9597\n",
            "Epoch 9/20\n",
            "31/31 [==============================] - 1s 39ms/step - loss: 0.1207 - accuracy: 0.9535 - val_loss: 0.1318 - val_accuracy: 0.9516\n",
            "Epoch 10/20\n",
            "31/31 [==============================] - 1s 39ms/step - loss: 0.1112 - accuracy: 0.9556 - val_loss: 0.1475 - val_accuracy: 0.9476\n",
            "Epoch 11/20\n",
            "31/31 [==============================] - ETA: 0s - loss: 0.0724 - accuracy: 0.9717INFO:tensorflow:Assets written to: model-011.model/assets\n",
            "31/31 [==============================] - 2s 66ms/step - loss: 0.0724 - accuracy: 0.9717 - val_loss: 0.0930 - val_accuracy: 0.9677\n",
            "Epoch 12/20\n",
            "31/31 [==============================] - 1s 39ms/step - loss: 0.0696 - accuracy: 0.9808 - val_loss: 0.1211 - val_accuracy: 0.9516\n",
            "Epoch 13/20\n",
            "31/31 [==============================] - 1s 39ms/step - loss: 0.0735 - accuracy: 0.9747 - val_loss: 0.2536 - val_accuracy: 0.9073\n",
            "Epoch 14/20\n",
            "31/31 [==============================] - 1s 39ms/step - loss: 0.0588 - accuracy: 0.9747 - val_loss: 0.1049 - val_accuracy: 0.9597\n",
            "Epoch 15/20\n",
            "31/31 [==============================] - ETA: 0s - loss: 0.0426 - accuracy: 0.9848INFO:tensorflow:Assets written to: model-015.model/assets\n",
            "31/31 [==============================] - 2s 66ms/step - loss: 0.0426 - accuracy: 0.9848 - val_loss: 0.0906 - val_accuracy: 0.9677\n",
            "Epoch 16/20\n",
            "31/31 [==============================] - 1s 39ms/step - loss: 0.0627 - accuracy: 0.9818 - val_loss: 0.0945 - val_accuracy: 0.9597\n",
            "Epoch 17/20\n",
            "31/31 [==============================] - ETA: 0s - loss: 0.0369 - accuracy: 0.9879INFO:tensorflow:Assets written to: model-017.model/assets\n",
            "31/31 [==============================] - 2s 73ms/step - loss: 0.0369 - accuracy: 0.9879 - val_loss: 0.0877 - val_accuracy: 0.9718\n",
            "Epoch 18/20\n",
            "31/31 [==============================] - 1s 39ms/step - loss: 0.0300 - accuracy: 0.9859 - val_loss: 0.1015 - val_accuracy: 0.9556\n",
            "Epoch 19/20\n",
            "31/31 [==============================] - 1s 40ms/step - loss: 0.0286 - accuracy: 0.9919 - val_loss: 0.1019 - val_accuracy: 0.9677\n",
            "Epoch 20/20\n",
            "31/31 [==============================] - 1s 40ms/step - loss: 0.0344 - accuracy: 0.9889 - val_loss: 0.0900 - val_accuracy: 0.9637\n"
          ],
          "name": "stdout"
        }
      ]
    },
    {
      "cell_type": "code",
      "metadata": {
        "id": "lEn9c83VCuSu",
        "colab": {
          "base_uri": "https://localhost:8080/",
          "height": 231
        },
        "outputId": "057c8679-dbcc-4153-d530-d9f62cd6b327"
      },
      "source": [
        "from matplotlib import pyplot as plt\n",
        "\n",
        "plt.plot(history.history['loss'],label='training loss' )\n",
        "plt.plot(history.history['val_loss'] , label ='validation loss')\n",
        "plt.xlabel('# epochs')\n",
        "plt.ylabel('loss')\n",
        "plt.legend()\n",
        "plt.show()"
      ],
      "execution_count": null,
      "outputs": [
        {
          "output_type": "error",
          "ename": "NameError",
          "evalue": "ignored",
          "traceback": [
            "\u001b[0;31m---------------------------------------------------------------------------\u001b[0m",
            "\u001b[0;31mNameError\u001b[0m                                 Traceback (most recent call last)",
            "\u001b[0;32m<ipython-input-3-0a52cda019a9>\u001b[0m in \u001b[0;36m<module>\u001b[0;34m()\u001b[0m\n\u001b[1;32m      1\u001b[0m \u001b[0;32mfrom\u001b[0m \u001b[0mmatplotlib\u001b[0m \u001b[0;32mimport\u001b[0m \u001b[0mpyplot\u001b[0m \u001b[0;32mas\u001b[0m \u001b[0mplt\u001b[0m\u001b[0;34m\u001b[0m\u001b[0;34m\u001b[0m\u001b[0m\n\u001b[1;32m      2\u001b[0m \u001b[0;34m\u001b[0m\u001b[0m\n\u001b[0;32m----> 3\u001b[0;31m \u001b[0mplt\u001b[0m\u001b[0;34m.\u001b[0m\u001b[0mplot\u001b[0m\u001b[0;34m(\u001b[0m\u001b[0mhistory\u001b[0m\u001b[0;34m.\u001b[0m\u001b[0mhistory\u001b[0m\u001b[0;34m[\u001b[0m\u001b[0;34m'loss'\u001b[0m\u001b[0;34m]\u001b[0m\u001b[0;34m,\u001b[0m\u001b[0mlabel\u001b[0m\u001b[0;34m=\u001b[0m\u001b[0;34m'training loss'\u001b[0m \u001b[0;34m)\u001b[0m\u001b[0;34m\u001b[0m\u001b[0;34m\u001b[0m\u001b[0m\n\u001b[0m\u001b[1;32m      4\u001b[0m \u001b[0mplt\u001b[0m\u001b[0;34m.\u001b[0m\u001b[0mplot\u001b[0m\u001b[0;34m(\u001b[0m\u001b[0mhistory\u001b[0m\u001b[0;34m.\u001b[0m\u001b[0mhistory\u001b[0m\u001b[0;34m[\u001b[0m\u001b[0;34m'val_loss'\u001b[0m\u001b[0;34m]\u001b[0m \u001b[0;34m,\u001b[0m \u001b[0mlabel\u001b[0m \u001b[0;34m=\u001b[0m\u001b[0;34m'validation loss'\u001b[0m\u001b[0;34m)\u001b[0m\u001b[0;34m\u001b[0m\u001b[0;34m\u001b[0m\u001b[0m\n\u001b[1;32m      5\u001b[0m \u001b[0mplt\u001b[0m\u001b[0;34m.\u001b[0m\u001b[0mxlabel\u001b[0m\u001b[0;34m(\u001b[0m\u001b[0;34m'# epochs'\u001b[0m\u001b[0;34m)\u001b[0m\u001b[0;34m\u001b[0m\u001b[0;34m\u001b[0m\u001b[0m\n",
            "\u001b[0;31mNameError\u001b[0m: name 'history' is not defined"
          ]
        }
      ]
    },
    {
      "cell_type": "code",
      "metadata": {
        "id": "Nkk70lxXCpw_",
        "colab": {
          "base_uri": "https://localhost:8080/",
          "height": 278
        },
        "outputId": "f9cd6720-fc72-47d4-bc36-d256114b122a"
      },
      "source": [
        "from matplotlib import pyplot as plt \n",
        "\n",
        "plt.plot(history.history['accuracy'] , label='tranning accuracy')\n",
        "plt.plot(history.history['val_accuracy'] , label = 'validation accuracy')\n",
        "plt.xlabel(\"# epochs\")\n",
        "plt.ylabel('loss')\n",
        "plt.legend()\n",
        "plt.show()"
      ],
      "execution_count": null,
      "outputs": [
        {
          "output_type": "display_data",
          "data": {
            "image/png": "[encoded data removed]",
            "text/plain": [
              "<Figure size 432x288 with 1 Axes>"
            ]
          },
          "metadata": {
            "tags": [],
            "needs_background": "light"
          }
        }
      ]
    },
    {
      "cell_type": "code",
      "metadata": {
        "id": "c81Wan-dKgBc",
        "colab": {
          "base_uri": "https://localhost:8080/",
          "height": 52
        },
        "outputId": "06bc1646-d8f4-4098-984e-da57fb779daa"
      },
      "source": [
        "print(model.evaluate(test_data ,test_target ))"
      ],
      "execution_count": null,
      "outputs": [
        {
          "output_type": "stream",
          "text": [
            "5/5 [==============================] - 0s 20ms/step - loss: 0.0622 - accuracy: 0.9710\n",
            "[0.062211278825998306, 0.9710144996643066]\n"
          ],
          "name": "stdout"
        }
      ]
    },
    {
      "cell_type": "code",
      "metadata": {
        "id": "9um8GRwkkSPm"
      },
      "source": [
        ""
      ],
      "execution_count": null,
      "outputs": []
    }
  ]
}