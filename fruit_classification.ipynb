{
  "nbformat": 4,
  "nbformat_minor": 0,
  "metadata": {
    "colab": {
      "name": "fruit classification.ipynb",
      "provenance": [],
      "collapsed_sections": [],
      "mount_file_id": "1o0SebnEQurugASbfPQ4gcJ0bQC8m7Xs_",
      "authorship_tag": "ABX9TyMROrxIscuASzFwt0LGbbw9"
    },
    "kernelspec": {
      "name": "python3",
      "display_name": "Python 3"
    }
  },
  "cells": [
    {
      "cell_type": "code",
      "metadata": {
        "colab": {
          "resources": {
            "http://localhost:8080/nbextensions/google.colab/files.js": {
              "data": "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",
              "ok": true,
              "headers": [
                [
                  "content-type",
                  "application/javascript"
                ]
              ],
              "status": 200,
              "status_text": ""
            }
          },
          "base_uri": "https://localhost:8080/",
          "height": 276
        },
        "id": "AtED20pV0dtn",
        "outputId": "4777352b-55ab-4d42-c861-de26531b6ba0"
      },
      "source": [
        "!pip install kaggle\r\n",
        "from google.colab import files \r\n",
        "files.upload() #download and upload json file"
      ],
      "execution_count": 2,
      "outputs": [
        {
          "output_type": "stream",
          "text": [
            "Requirement already satisfied: kaggle in /usr/local/lib/python3.6/dist-packages (1.5.10)\n",
            "Requirement already satisfied: python-slugify in /usr/local/lib/python3.6/dist-packages (from kaggle) (4.0.1)\n",
            "Requirement already satisfied: python-dateutil in /usr/local/lib/python3.6/dist-packages (from kaggle) (2.8.1)\n",
            "Requirement already satisfied: six>=1.10 in /usr/local/lib/python3.6/dist-packages (from kaggle) (1.15.0)\n",
            "Requirement already satisfied: tqdm in /usr/local/lib/python3.6/dist-packages (from kaggle) (4.41.1)\n",
            "Requirement already satisfied: certifi in /usr/local/lib/python3.6/dist-packages (from kaggle) (2020.12.5)\n",
            "Requirement already satisfied: urllib3 in /usr/local/lib/python3.6/dist-packages (from kaggle) (1.24.3)\n",
            "Requirement already satisfied: requests in /usr/local/lib/python3.6/dist-packages (from kaggle) (2.23.0)\n",
            "Requirement already satisfied: text-unidecode>=1.3 in /usr/local/lib/python3.6/dist-packages (from python-slugify->kaggle) (1.3)\n",
            "Requirement already satisfied: chardet<4,>=3.0.2 in /usr/local/lib/python3.6/dist-packages (from requests->kaggle) (3.0.4)\n",
            "Requirement already satisfied: idna<3,>=2.5 in /usr/local/lib/python3.6/dist-packages (from requests->kaggle) (2.10)\n"
          ],
          "name": "stdout"
        },
        {
          "output_type": "display_data",
          "data": {
            "text/html": [
              "\n",
              "     <input type=\"file\" id=\"files-f88e332d-3256-4e62-99d7-c030dfaf9e0f\" name=\"files[]\" multiple disabled\n",
              "        style=\"border:none\" />\n",
              "     <output id=\"result-f88e332d-3256-4e62-99d7-c030dfaf9e0f\">\n",
              "      Upload widget is only available when the cell has been executed in the\n",
              "      current browser session. Please rerun this cell to enable.\n",
              "      </output>\n",
              "      <script src=\"/nbextensions/google.colab/files.js\"></script> "
            ],
            "text/plain": [
              "<IPython.core.display.HTML object>"
            ]
          },
          "metadata": {
            "tags": []
          }
        },
        {
          "output_type": "stream",
          "text": [
            "Saving kaggle.json to kaggle.json\n"
          ],
          "name": "stdout"
        },
        {
          "output_type": "execute_result",
          "data": {
            "text/plain": [
              "{'kaggle.json': b'{\"username\":\"samratalam\",\"key\":\"04f3b6633583fdfd1704c7e3a2ac2ad5\"}'}"
            ]
          },
          "metadata": {
            "tags": []
          },
          "execution_count": 2
        }
      ]
    },
    {
      "cell_type": "code",
      "metadata": {
        "id": "CPI58-0S0vPk"
      },
      "source": [
        "!mkdir -p ~/.kaggle\r\n",
        "!cp kaggle.json ~/.kaggle/\r\n",
        "\r\n",
        "!chmod 600 ~/.kaggle/kaggle.json"
      ],
      "execution_count": 3,
      "outputs": []
    },
    {
      "cell_type": "code",
      "metadata": {
        "colab": {
          "base_uri": "https://localhost:8080/"
        },
        "id": "BjpGpRUI19Xc",
        "outputId": "df56eed9-4ac1-4026-cbdc-8c1cef40fb41"
      },
      "source": [
        "!kaggle datasets download -d mbkinaci/fruit-images-for-object-detection"
      ],
      "execution_count": 4,
      "outputs": [
        {
          "output_type": "stream",
          "text": [
            "Downloading fruit-images-for-object-detection.zip to /content\n",
            " 18% 5.00M/28.4M [00:01<00:07, 3.23MB/s]\n",
            "100% 28.4M/28.4M [00:01<00:00, 17.3MB/s]\n"
          ],
          "name": "stdout"
        }
      ]
    },
    {
      "cell_type": "code",
      "metadata": {
        "colab": {
          "base_uri": "https://localhost:8080/"
        },
        "id": "ytiYceTs3Snz",
        "outputId": "ac86bb2f-ba33-4552-91ae-06fd636a9c3d"
      },
      "source": [
        "#to unzip file\r\n",
        "\r\n",
        "from zipfile import ZipFile\r\n",
        "file_name= \"fruit-images-for-object-detection.zip\"\r\n",
        "\r\n",
        "with ZipFile(file_name ,'r') as zip:\r\n",
        "  zip.extractall()\r\n",
        "  print('Done')"
      ],
      "execution_count": 5,
      "outputs": [
        {
          "output_type": "stream",
          "text": [
            "Done\n"
          ],
          "name": "stdout"
        }
      ]
    },
    {
      "cell_type": "code",
      "metadata": {
        "id": "pxWaEApc_oRo"
      },
      "source": [
        "import numpy as np\r\n",
        "import pandas as pd\r\n",
        "import os #####################\r\n",
        "import matplotlib.pyplot as plt\r\n",
        "import cv2\r\n",
        "\r\n",
        "from keras.models import Sequential\r\n",
        "from keras.layers import Dense , MaxPool2D , Flatten , Dropout , Conv2D\r\n",
        "\r\n",
        "from keras.utils import to_categorical  ###############\r\n",
        "\r\n",
        "from sklearn.model_selection import train_test_split\r\n",
        "\r\n",
        "np.random.seed(1)"
      ],
      "execution_count": 6,
      "outputs": []
    },
    {
      "cell_type": "code",
      "metadata": {
        "id": "L46wWljp4MxQ"
      },
      "source": [
        "#pre processing traning data\r\n",
        "#appending images in a list 'train_images'\r\n",
        "#appending labels in a list 'train_labels'\r\n",
        "\r\n",
        "\r\n",
        "train_images =[]\r\n",
        "train_labels = []\r\n",
        "shape =(200,200)\r\n",
        "train_path ='/content/train_zip/train'\r\n",
        "\r\n",
        "for filename in os.listdir('/content/train_zip/train'):\r\n",
        "  if filename.split('.')[1] == 'jpg' :                 #apple_1.jpg\r\n",
        "    img = cv2.imread(os.path.join(train_path , filename))\r\n",
        "\r\n",
        "    #spliting filenames and storing labels for image in list\r\n",
        "\r\n",
        "    train_labels.append(filename.split('_')[0])    #apple_1.jpg\r\n",
        "    \r\n",
        "    #resize\r\n",
        "    img = cv2.resize(img, shape)\r\n",
        "\r\n",
        "    train_images.append(img)\r\n",
        "\r\n",
        "#convert images into array\r\n",
        "train_images = np.array(train_images)\r\n",
        "#converting labels into one hot encoded sparse matrix\r\n",
        "train_labels = pd.get_dummies(train_labels ).values #########################\r\n",
        "\r\n",
        "#split traning data into train and validation data\r\n",
        "\r\n",
        "x_train , x_val ,y_train , y_val = train_test_split(train_images , train_labels , random_state = 1)##########"
      ],
      "execution_count": 7,
      "outputs": []
    },
    {
      "cell_type": "code",
      "metadata": {
        "id": "fDBCG9vaAziJ"
      },
      "source": [
        "#test images preprocessing \r\n",
        "#appending labels in test_labels list\r\n",
        "#appendign resize images in test_images list\r\n",
        "# The test data contains labels as well also we are appending it to a list \r\n",
        "#but we are'nt going to use it while training.\r\n",
        "\r\n",
        "test_images = []\r\n",
        "test_labels = []\r\n",
        "shape=(200,200)\r\n",
        "test_path ='/content/test_zip/test'\r\n",
        "\r\n",
        "for filename in os.listdir('/content/test_zip/test'):\r\n",
        "  if filename.split('.')[1] == 'jpg' :\r\n",
        "    img = cv2.imread(os.path.join(test_path, filename))\r\n",
        "\r\n",
        "    test_labels.append(filename.split('_')[0])\r\n",
        "\r\n",
        "    img = cv2.resize(img , shape)\r\n",
        "\r\n",
        "    test_images.append(img)\r\n",
        "\r\n",
        "test_images = np.array(test_images)\r\n",
        "\r\n",
        "#train_labels = pd.get_dummies(train_labels).values\r\n",
        "\r\n",
        "\r\n",
        "\r\n"
      ],
      "execution_count": 8,
      "outputs": []
    },
    {
      "cell_type": "code",
      "metadata": {
        "colab": {
          "base_uri": "https://localhost:8080/",
          "height": 303
        },
        "id": "CJizPsUQf5qP",
        "outputId": "6b46ee36-ba82-4432-ecdf-aadfd9533c14"
      },
      "source": [
        "#visualizing the trainnig data\r\n",
        "print(train_labels[101])\r\n",
        "plt.imshow(train_images[101])\r\n"
      ],
      "execution_count": 9,
      "outputs": [
        {
          "output_type": "stream",
          "text": [
            "[1 0 0 0]\n"
          ],
          "name": "stdout"
        },
        {
          "output_type": "execute_result",
          "data": {
            "text/plain": [
              "<matplotlib.image.AxesImage at 0x7f91296b0358>"
            ]
          },
          "metadata": {
            "tags": []
          },
          "execution_count": 9
        },
        {
          "output_type": "display_data",
          "data": {
            "image/png": "[encoded data removed]",
            "text/plain": [
              "<Figure size 432x288 with 1 Axes>"
            ]
          },
          "metadata": {
            "tags": [],
            "needs_background": "light"
          }
        }
      ]
    },
    {
      "cell_type": "code",
      "metadata": {
        "id": "qfQA_PGDgQok"
      },
      "source": [
        "#creating a sequential model\r\n",
        "#conv2d--conv2d--maxpool---conv2d--maxppol--conv2d---flatten--dense(3)\r\n",
        "model = Sequential()\r\n",
        "\r\n",
        "model.add(Conv2D(filters=32 , kernel_size=(3,3) , activation='tanh' , input_shape=(200,200,3,)))\r\n",
        "model.add(Conv2D(filters=30,kernel_size=(3,3),activation='tanh'))\r\n",
        "model.add(MaxPool2D(2,2))\r\n",
        "model.add(Conv2D(filters=30,kernel_size=(3,3),activation='tanh')) ########\r\n",
        "model.add(MaxPool2D(2,2))\r\n",
        "model.add(Conv2D(filters=30,kernel_size=(3,3),activation='tanh'))\r\n",
        "\r\n",
        "model.add(Flatten())\r\n",
        "\r\n",
        "model.add(Dense(20,activation='relu')) #########\r\n",
        "model.add(Dense(15,activation='relu'))\r\n",
        "model.add(Dense(4,activation='softmax'))\r\n",
        "\r\n",
        "model.compile(\r\n",
        "    loss='categorical_crossentropy',   #######\r\n",
        "    metrics=['acc'],############\r\n",
        "    optimizer='adam'############\r\n",
        "    \r\n",
        "\r\n",
        ")\r\n"
      ],
      "execution_count": 10,
      "outputs": []
    },
    {
      "cell_type": "code",
      "metadata": {
        "colab": {
          "base_uri": "https://localhost:8080/"
        },
        "id": "n_rClWepnw5X",
        "outputId": "b37da3e4-cb16-4352-bcfa-9ed75fb8338f"
      },
      "source": [
        "model.summary()"
      ],
      "execution_count": 11,
      "outputs": [
        {
          "output_type": "stream",
          "text": [
            "Model: \"sequential\"\n",
            "_________________________________________________________________\n",
            "Layer (type)                 Output Shape              Param #   \n",
            "=================================================================\n",
            "conv2d (Conv2D)              (None, 198, 198, 32)      896       \n",
            "_________________________________________________________________\n",
            "conv2d_1 (Conv2D)            (None, 196, 196, 30)      8670      \n",
            "_________________________________________________________________\n",
            "max_pooling2d (MaxPooling2D) (None, 98, 98, 30)        0         \n",
            "_________________________________________________________________\n",
            "conv2d_2 (Conv2D)            (None, 96, 96, 30)        8130      \n",
            "_________________________________________________________________\n",
            "max_pooling2d_1 (MaxPooling2 (None, 48, 48, 30)        0         \n",
            "_________________________________________________________________\n",
            "conv2d_3 (Conv2D)            (None, 46, 46, 30)        8130      \n",
            "_________________________________________________________________\n",
            "flatten (Flatten)            (None, 63480)             0         \n",
            "_________________________________________________________________\n",
            "dense (Dense)                (None, 20)                1269620   \n",
            "_________________________________________________________________\n",
            "dense_1 (Dense)              (None, 15)                315       \n",
            "_________________________________________________________________\n",
            "dense_2 (Dense)              (None, 4)                 64        \n",
            "=================================================================\n",
            "Total params: 1,295,825\n",
            "Trainable params: 1,295,825\n",
            "Non-trainable params: 0\n",
            "_________________________________________________________________\n"
          ],
          "name": "stdout"
        }
      ]
    },
    {
      "cell_type": "code",
      "metadata": {
        "colab": {
          "base_uri": "https://localhost:8080/"
        },
        "id": "SP5UCaPwn0rT",
        "outputId": "6bf6b28a-31f0-4fa7-92ef-f239e486169b"
      },
      "source": [
        "#trainnig the model\r\n",
        "history = model.fit(x_train,y_train , epochs=50,batch_size=50,validation_data=(x_val,y_val))"
      ],
      "execution_count": 12,
      "outputs": [
        {
          "output_type": "stream",
          "text": [
            "Epoch 1/50\n",
            "4/4 [==============================] - 24s 6s/step - loss: 5.9333 - acc: 0.1696 - val_loss: 1.4431 - val_acc: 0.3333\n",
            "Epoch 2/50\n",
            "4/4 [==============================] - 22s 5s/step - loss: 1.4273 - acc: 0.2951 - val_loss: 1.3948 - val_acc: 0.1500\n",
            "Epoch 3/50\n",
            "4/4 [==============================] - 22s 6s/step - loss: 1.3525 - acc: 0.2682 - val_loss: 1.4374 - val_acc: 0.2500\n",
            "Epoch 4/50\n",
            "4/4 [==============================] - 22s 6s/step - loss: 1.2790 - acc: 0.3469 - val_loss: 1.1766 - val_acc: 0.5333\n",
            "Epoch 5/50\n",
            "4/4 [==============================] - 22s 6s/step - loss: 1.1371 - acc: 0.5509 - val_loss: 1.0283 - val_acc: 0.6167\n",
            "Epoch 6/50\n",
            "4/4 [==============================] - 22s 6s/step - loss: 0.9200 - acc: 0.6073 - val_loss: 1.0977 - val_acc: 0.7333\n",
            "Epoch 7/50\n",
            "4/4 [==============================] - 22s 6s/step - loss: 0.9673 - acc: 0.7589 - val_loss: 1.0287 - val_acc: 0.6333\n",
            "Epoch 8/50\n",
            "4/4 [==============================] - 22s 6s/step - loss: 0.8263 - acc: 0.6920 - val_loss: 0.8145 - val_acc: 0.7500\n",
            "Epoch 9/50\n",
            "4/4 [==============================] - 22s 6s/step - loss: 0.7174 - acc: 0.8198 - val_loss: 0.7796 - val_acc: 0.7333\n",
            "Epoch 10/50\n",
            "4/4 [==============================] - 22s 5s/step - loss: 0.5311 - acc: 0.8364 - val_loss: 0.7456 - val_acc: 0.7833\n",
            "Epoch 11/50\n",
            "4/4 [==============================] - 22s 5s/step - loss: 0.4934 - acc: 0.8564 - val_loss: 0.6698 - val_acc: 0.7833\n",
            "Epoch 12/50\n",
            "4/4 [==============================] - 22s 6s/step - loss: 0.5121 - acc: 0.8809 - val_loss: 0.6049 - val_acc: 0.8000\n",
            "Epoch 13/50\n",
            "4/4 [==============================] - 22s 5s/step - loss: 0.4292 - acc: 0.8931 - val_loss: 0.6105 - val_acc: 0.8000\n",
            "Epoch 14/50\n",
            "4/4 [==============================] - 22s 6s/step - loss: 0.4073 - acc: 0.8751 - val_loss: 0.5578 - val_acc: 0.8167\n",
            "Epoch 15/50\n",
            "4/4 [==============================] - 22s 6s/step - loss: 0.3848 - acc: 0.8918 - val_loss: 0.5534 - val_acc: 0.8500\n",
            "Epoch 16/50\n",
            "4/4 [==============================] - 22s 6s/step - loss: 0.3871 - acc: 0.8782 - val_loss: 0.5746 - val_acc: 0.7833\n",
            "Epoch 17/50\n",
            "4/4 [==============================] - 22s 6s/step - loss: 0.3428 - acc: 0.8740 - val_loss: 0.5957 - val_acc: 0.7667\n",
            "Epoch 18/50\n",
            "4/4 [==============================] - 22s 6s/step - loss: 0.3579 - acc: 0.8764 - val_loss: 0.6788 - val_acc: 0.7833\n",
            "Epoch 19/50\n",
            "4/4 [==============================] - 22s 6s/step - loss: 0.3986 - acc: 0.8638 - val_loss: 0.7207 - val_acc: 0.7000\n",
            "Epoch 20/50\n",
            "4/4 [==============================] - 22s 6s/step - loss: 0.4617 - acc: 0.8147 - val_loss: 0.5337 - val_acc: 0.8333\n",
            "Epoch 21/50\n",
            "4/4 [==============================] - 24s 6s/step - loss: 0.3810 - acc: 0.8820 - val_loss: 0.5005 - val_acc: 0.8667\n",
            "Epoch 22/50\n",
            "4/4 [==============================] - 27s 6s/step - loss: 0.3190 - acc: 0.9053 - val_loss: 0.5015 - val_acc: 0.8500\n",
            "Epoch 23/50\n",
            "4/4 [==============================] - 23s 6s/step - loss: 0.3027 - acc: 0.8876 - val_loss: 0.6209 - val_acc: 0.8167\n",
            "Epoch 24/50\n",
            "4/4 [==============================] - 22s 6s/step - loss: 0.2711 - acc: 0.8991 - val_loss: 0.5488 - val_acc: 0.8167\n",
            "Epoch 25/50\n",
            "4/4 [==============================] - 22s 6s/step - loss: 0.2546 - acc: 0.9067 - val_loss: 0.5642 - val_acc: 0.8333\n",
            "Epoch 26/50\n",
            "4/4 [==============================] - 22s 6s/step - loss: 0.2232 - acc: 0.9120 - val_loss: 0.6099 - val_acc: 0.8000\n",
            "Epoch 27/50\n",
            "4/4 [==============================] - 22s 6s/step - loss: 0.2557 - acc: 0.9018 - val_loss: 0.5794 - val_acc: 0.7833\n",
            "Epoch 28/50\n",
            "4/4 [==============================] - 22s 6s/step - loss: 0.2222 - acc: 0.9131 - val_loss: 0.5260 - val_acc: 0.8167\n",
            "Epoch 29/50\n",
            "4/4 [==============================] - 22s 6s/step - loss: 0.2334 - acc: 0.8907 - val_loss: 0.5077 - val_acc: 0.8167\n",
            "Epoch 30/50\n",
            "4/4 [==============================] - 22s 6s/step - loss: 0.1955 - acc: 0.9138 - val_loss: 0.5291 - val_acc: 0.8167\n",
            "Epoch 31/50\n",
            "4/4 [==============================] - 22s 6s/step - loss: 0.1930 - acc: 0.9116 - val_loss: 0.5313 - val_acc: 0.8000\n",
            "Epoch 32/50\n",
            "4/4 [==============================] - 22s 6s/step - loss: 0.1777 - acc: 0.9109 - val_loss: 0.4944 - val_acc: 0.8333\n",
            "Epoch 33/50\n",
            "4/4 [==============================] - 22s 6s/step - loss: 0.1693 - acc: 0.9184 - val_loss: 0.4969 - val_acc: 0.8333\n",
            "Epoch 34/50\n",
            "4/4 [==============================] - 22s 6s/step - loss: 0.1719 - acc: 0.9267 - val_loss: 0.4826 - val_acc: 0.8500\n",
            "Epoch 35/50\n",
            "4/4 [==============================] - 22s 6s/step - loss: 0.1842 - acc: 0.9147 - val_loss: 0.4708 - val_acc: 0.8333\n",
            "Epoch 36/50\n",
            "4/4 [==============================] - 22s 6s/step - loss: 0.2057 - acc: 0.9033 - val_loss: 0.5090 - val_acc: 0.8333\n",
            "Epoch 37/50\n",
            "4/4 [==============================] - 22s 6s/step - loss: 0.1614 - acc: 0.9220 - val_loss: 0.5329 - val_acc: 0.8167\n",
            "Epoch 38/50\n",
            "4/4 [==============================] - 22s 6s/step - loss: 0.1834 - acc: 0.9167 - val_loss: 0.5672 - val_acc: 0.8333\n",
            "Epoch 39/50\n",
            "4/4 [==============================] - 22s 6s/step - loss: 0.1736 - acc: 0.9100 - val_loss: 0.5566 - val_acc: 0.8333\n",
            "Epoch 40/50\n",
            "4/4 [==============================] - 22s 6s/step - loss: 0.1565 - acc: 0.9147 - val_loss: 0.5908 - val_acc: 0.8167\n",
            "Epoch 41/50\n",
            "4/4 [==============================] - 22s 6s/step - loss: 0.1753 - acc: 0.9064 - val_loss: 0.5769 - val_acc: 0.8333\n",
            "Epoch 42/50\n",
            "4/4 [==============================] - 22s 6s/step - loss: 0.1721 - acc: 0.8978 - val_loss: 0.5809 - val_acc: 0.8000\n",
            "Epoch 43/50\n",
            "4/4 [==============================] - 22s 5s/step - loss: 0.1547 - acc: 0.9193 - val_loss: 0.5389 - val_acc: 0.8167\n",
            "Epoch 44/50\n",
            "4/4 [==============================] - 22s 6s/step - loss: 0.1354 - acc: 0.9247 - val_loss: 0.5449 - val_acc: 0.8500\n",
            "Epoch 45/50\n",
            "4/4 [==============================] - 22s 5s/step - loss: 0.1487 - acc: 0.9107 - val_loss: 0.5700 - val_acc: 0.8167\n",
            "Epoch 46/50\n",
            "4/4 [==============================] - 22s 5s/step - loss: 0.1428 - acc: 0.9120 - val_loss: 0.6003 - val_acc: 0.8333\n",
            "Epoch 47/50\n",
            "4/4 [==============================] - 22s 5s/step - loss: 0.1438 - acc: 0.9220 - val_loss: 0.5521 - val_acc: 0.8333\n",
            "Epoch 48/50\n",
            "4/4 [==============================] - 22s 5s/step - loss: 0.1480 - acc: 0.9153 - val_loss: 0.5305 - val_acc: 0.8500\n",
            "Epoch 49/50\n",
            "4/4 [==============================] - 22s 5s/step - loss: 0.1392 - acc: 0.9113 - val_loss: 0.5707 - val_acc: 0.8333\n",
            "Epoch 50/50\n",
            "4/4 [==============================] - 22s 5s/step - loss: 0.1253 - acc: 0.9224 - val_loss: 0.6158 - val_acc: 0.8167\n"
          ],
          "name": "stdout"
        }
      ]
    },
    {
      "cell_type": "code",
      "metadata": {
        "colab": {
          "base_uri": "https://localhost:8080/",
          "height": 279
        },
        "id": "pMRG43lJqihd",
        "outputId": "e92003b9-1c20-40e0-d160-60922f505774"
      },
      "source": [
        "#summarize history for accuracy\r\n",
        "plt.plot(history.history['acc'])\r\n",
        "plt.plot(history.history['val_acc'])\r\n",
        "plt.ylabel('model accuracy')\r\n",
        "plt.xlabel('epoch')\r\n",
        "plt.legend(['train' , 'test'] , loc= 'lower right')\r\n",
        "plt.show()"
      ],
      "execution_count": 13,
      "outputs": [
        {
          "output_type": "display_data",
          "data": {
            "image/png": "[encoded data removed]",
            "text/plain": [
              "<Figure size 432x288 with 1 Axes>"
            ]
          },
          "metadata": {
            "tags": [],
            "needs_background": "light"
          }
        }
      ]
    },
    {
      "cell_type": "code",
      "metadata": {
        "colab": {
          "base_uri": "https://localhost:8080/",
          "height": 279
        },
        "id": "Ri-FcGIYssYE",
        "outputId": "8c3d1709-db91-4e34-e1b6-0a2a922a7318"
      },
      "source": [
        "#summarize history for loss\r\n",
        "plt.plot(history.history['loss'])\r\n",
        "plt.plot(history.history['val_loss'])################\r\n",
        "plt.ylabel('loss')\r\n",
        "plt.xlabel('epochs')\r\n",
        "plt.legend(['train','test'] , loc='upper right')\r\n",
        "plt.show()"
      ],
      "execution_count": 14,
      "outputs": [
        {
          "output_type": "display_data",
          "data": {
            "image/png": "[encoded data removed]",
            "text/plain": [
              "<Figure size 432x288 with 1 Axes>"
            ]
          },
          "metadata": {
            "tags": [],
            "needs_background": "light"
          }
        }
      ]
    },
    {
      "cell_type": "code",
      "metadata": {
        "colab": {
          "base_uri": "https://localhost:8080/"
        },
        "id": "DW0GF6ijthsE",
        "outputId": "8cb69af2-bbcf-418a-9fe1-c57c9a28376d"
      },
      "source": [
        "#evaluating model on validation data\r\n",
        "evaluate = model.evaluate(x_val , y_val)\r\n",
        "print(evaluate)"
      ],
      "execution_count": 15,
      "outputs": [
        {
          "output_type": "stream",
          "text": [
            "2/2 [==============================] - 2s 841ms/step - loss: 0.6158 - acc: 0.8167\n",
            "[0.6158422827720642, 0.8166666626930237]\n"
          ],
          "name": "stdout"
        }
      ]
    },
    {
      "cell_type": "code",
      "metadata": {
        "colab": {
          "base_uri": "https://localhost:8080/"
        },
        "id": "q4T7J4-Jtwq9",
        "outputId": "e8945606-4496-496d-f38d-9ba636f54c25"
      },
      "source": [
        "# Testing predictions and the actual label\r\n",
        "for i in range(0,60):\r\n",
        "  checkImage = test_images[i:i+1]\r\n",
        "  checklabel = test_labels[i:i+1]\r\n",
        "\r\n",
        "\r\n",
        "\r\n",
        "  predict = model.predict(np.array(checkImage))\r\n",
        "\r\n",
        "\r\n",
        "  output = { 0:'apple',1:'banana',2:'mixed',3:'orange'}\r\n",
        "\r\n",
        "  print(i)\r\n",
        "  print(\"Actual :- \",checklabel)\r\n",
        "  print(\"Predicted :- \",output[np.argmax(predict)])\r\n",
        "  if i==59 :\r\n",
        "    break\r\n",
        "\r\n",
        "\r\n",
        "\r\n"
      ],
      "execution_count": 27,
      "outputs": [
        {
          "output_type": "stream",
          "text": [
            "0\n",
            "Actual :-  ['banana']\n",
            "Predicted :-  banana\n",
            "1\n",
            "Actual :-  ['banana']\n",
            "Predicted :-  banana\n",
            "2\n",
            "Actual :-  ['apple']\n",
            "Predicted :-  banana\n",
            "3\n",
            "Actual :-  ['banana']\n",
            "Predicted :-  banana\n",
            "4\n",
            "Actual :-  ['mixed']\n",
            "Predicted :-  banana\n",
            "5\n",
            "Actual :-  ['orange']\n",
            "Predicted :-  orange\n",
            "6\n",
            "Actual :-  ['mixed']\n",
            "Predicted :-  orange\n",
            "7\n",
            "Actual :-  ['apple']\n",
            "Predicted :-  apple\n",
            "8\n",
            "Actual :-  ['banana']\n",
            "Predicted :-  banana\n",
            "9\n",
            "Actual :-  ['orange']\n",
            "Predicted :-  orange\n",
            "10\n",
            "Actual :-  ['orange']\n",
            "Predicted :-  orange\n",
            "11\n",
            "Actual :-  ['orange']\n",
            "Predicted :-  orange\n",
            "12\n",
            "Actual :-  ['apple']\n",
            "Predicted :-  apple\n",
            "13\n",
            "Actual :-  ['apple']\n",
            "Predicted :-  apple\n",
            "14\n",
            "Actual :-  ['orange']\n",
            "Predicted :-  orange\n",
            "15\n",
            "Actual :-  ['orange']\n",
            "Predicted :-  orange\n",
            "16\n",
            "Actual :-  ['orange']\n",
            "Predicted :-  orange\n",
            "17\n",
            "Actual :-  ['apple']\n",
            "Predicted :-  apple\n",
            "18\n",
            "Actual :-  ['apple']\n",
            "Predicted :-  apple\n",
            "19\n",
            "Actual :-  ['apple']\n",
            "Predicted :-  apple\n",
            "20\n",
            "Actual :-  ['banana']\n",
            "Predicted :-  banana\n",
            "21\n",
            "Actual :-  ['banana']\n",
            "Predicted :-  banana\n",
            "22\n",
            "Actual :-  ['banana']\n",
            "Predicted :-  orange\n",
            "23\n",
            "Actual :-  ['orange']\n",
            "Predicted :-  orange\n",
            "24\n",
            "Actual :-  ['apple']\n",
            "Predicted :-  banana\n",
            "25\n",
            "Actual :-  ['apple']\n",
            "Predicted :-  apple\n",
            "26\n",
            "Actual :-  ['orange']\n",
            "Predicted :-  apple\n",
            "27\n",
            "Actual :-  ['banana']\n",
            "Predicted :-  banana\n",
            "28\n",
            "Actual :-  ['mixed']\n",
            "Predicted :-  apple\n",
            "29\n",
            "Actual :-  ['orange']\n",
            "Predicted :-  orange\n",
            "30\n",
            "Actual :-  ['banana']\n",
            "Predicted :-  banana\n",
            "31\n",
            "Actual :-  ['apple']\n",
            "Predicted :-  apple\n",
            "32\n",
            "Actual :-  ['banana']\n",
            "Predicted :-  banana\n",
            "33\n",
            "Actual :-  ['orange']\n",
            "Predicted :-  orange\n",
            "34\n",
            "Actual :-  ['banana']\n",
            "Predicted :-  banana\n",
            "35\n",
            "Actual :-  ['apple']\n",
            "Predicted :-  apple\n",
            "36\n",
            "Actual :-  ['banana']\n",
            "Predicted :-  banana\n",
            "37\n",
            "Actual :-  ['apple']\n",
            "Predicted :-  apple\n",
            "38\n",
            "Actual :-  ['banana']\n",
            "Predicted :-  banana\n",
            "39\n",
            "Actual :-  ['orange']\n",
            "Predicted :-  apple\n",
            "40\n",
            "Actual :-  ['apple']\n",
            "Predicted :-  apple\n",
            "41\n",
            "Actual :-  ['banana']\n",
            "Predicted :-  banana\n",
            "42\n",
            "Actual :-  ['orange']\n",
            "Predicted :-  orange\n",
            "43\n",
            "Actual :-  ['orange']\n",
            "Predicted :-  orange\n",
            "44\n",
            "Actual :-  ['apple']\n",
            "Predicted :-  apple\n",
            "45\n",
            "Actual :-  ['apple']\n",
            "Predicted :-  apple\n",
            "46\n",
            "Actual :-  ['apple']\n",
            "Predicted :-  apple\n",
            "47\n",
            "Actual :-  ['mixed']\n",
            "Predicted :-  apple\n",
            "48\n",
            "Actual :-  ['banana']\n",
            "Predicted :-  apple\n",
            "49\n",
            "Actual :-  ['apple']\n",
            "Predicted :-  apple\n",
            "50\n",
            "Actual :-  ['orange']\n",
            "Predicted :-  orange\n",
            "51\n",
            "Actual :-  ['apple']\n",
            "Predicted :-  apple\n",
            "52\n",
            "Actual :-  ['banana']\n",
            "Predicted :-  banana\n",
            "53\n",
            "Actual :-  ['banana']\n",
            "Predicted :-  banana\n",
            "54\n",
            "Actual :-  ['orange']\n",
            "Predicted :-  orange\n",
            "55\n",
            "Actual :-  ['apple']\n",
            "Predicted :-  apple\n",
            "56\n",
            "Actual :-  ['orange']\n",
            "Predicted :-  orange\n",
            "57\n",
            "Actual :-  ['orange']\n",
            "Predicted :-  orange\n",
            "58\n",
            "Actual :-  ['banana']\n",
            "Predicted :-  banana\n",
            "59\n",
            "Actual :-  ['mixed']\n",
            "Predicted :-  banana\n"
          ],
          "name": "stdout"
        }
      ]
    },
    {
      "cell_type": "code",
      "metadata": {
        "id": "p98Bh5OWt5lU"
      },
      "source": [
        ""
      ],
      "execution_count": 16,
      "outputs": []
    }
  ]
}